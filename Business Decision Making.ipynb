{
 "cells": [
  {
   "cell_type": "markdown",
   "id": "da24e5a7",
   "metadata": {},
   "source": [
    "# Проект: Принятие решений в бизнесе"
   ]
  },
  {
   "cell_type": "markdown",
   "id": "fbf07f48",
   "metadata": {},
   "source": [
    "## Описание проекта"
   ]
  },
  {
   "cell_type": "markdown",
   "id": "f6b34bca",
   "metadata": {},
   "source": [
    "Вы — аналитик крупного интернет-магазина. Вместе с отделом маркетинга вы подготовили список гипотез для увеличения выручки.\n",
    "Приоритизируйте гипотезы, запустите A/B-тест и проанализируйте результаты. "
   ]
  },
  {
   "cell_type": "markdown",
   "id": "870808d9",
   "metadata": {},
   "source": [
    "## Часть 1. Приоритизация гипотез."
   ]
  },
  {
   "cell_type": "markdown",
   "id": "6d527fbf",
   "metadata": {},
   "source": [
    "В файле /datasets/hypothesis.csv 9 гипотез по увеличению выручки интернет-магазина с указанными параметрами Reach, Impact, Confidence, Effort.\n",
    "**Задача**\n",
    "<ul>\n",
    "<li>Примените фреймворк ICE для приоритизации гипотез. Отсортируйте их по убыванию приоритета,</li>\n",
    "<li>Примените фреймворк RICE для приоритизации гипотез. Отсортируйте их по убыванию приоритета.</li>\n",
    "<li>Укажите, как изменилась приоритизация гипотез при применении RICE вместо ICE. Объясните, почему так произошло.</li>\n",
    "</ul>"
   ]
  },
  {
   "cell_type": "markdown",
   "id": "15eff6bd",
   "metadata": {},
   "source": [
    "## Часть 2. Анализ A/B-теста"
   ]
  },
  {
   "cell_type": "markdown",
   "id": "a966b61b",
   "metadata": {},
   "source": [
    "Вы провели A/B-тест и получили результаты, которые описаны в файлах /datasets/orders.csv и /datasets/visitors.csv.\n",
    "**Задача**\n",
    "Проанализируйте A/B-тест:\n",
    "<ul>\n",
    "<li>1.\tПостройте график кумулятивной выручки по группам. Сделайте выводы и предположения.</li>\n",
    "<li>2.\tПостройте график кумулятивного среднего чека по группам. Сделайте выводы и предположения.</li>\n",
    "<li>3.\tПостройте график относительного изменения кумулятивного среднего чека группы B к группе A. Сделайте выводы и предположения.</li>\n",
    "<li>4.\tПостройте график кумулятивного среднего количества заказов на посетителя по группам. Сделайте выводы и предположения.</li>\n",
    "<li>5.\tПостройте график относительного изменения кумулятивного среднего количества заказов на посетителя группы B к группе A. Сделайте выводы и предположения</li>\n",
    "<li>6.\tПостройте точечный график количества заказов по пользователям. Сделайте выводы и предположения.</li>\n",
    "<li>7.\tПосчитайте 95-й и 99-й перцентили количества заказов на пользователя. Выберите границу для определения аномальных пользователей.</li>\n",
    "<li>8.\tПостройте точечный график стоимостей заказов. Сделайте выводы и предположения.</li>\n",
    "<li>9.\tПосчитайте 95-й и 99-й перцентили стоимости заказов. Выберите границу для определения аномальных заказов.</li>\n",
    "<li>10.\tПосчитайте статистическую значимость различий в среднем количестве заказов на посетителя между группами по «сырым» данным. Сделайте выводы и предположения.</li>\n",
    "<li>11.\tПосчитайте статистическую значимость различий в среднем чеке заказа между группами по «сырым» данным. Сделайте выводы и предположения.</li>\n",
    "<li>12.\tПосчитайте статистическую значимость различий в среднем количестве заказов на посетителя между группами по «очищенным» данным. Сделайте выводы и предположения.</li>\n",
    "<li>13.\tПосчитайте статистическую значимость различий в среднем чеке заказа между группами по «очищенным» данным. Сделайте выводы и предположения.</li>\n",
    "<li>14.\tПримите решение по результатам теста и объясните его. Варианты решений: 1. Остановить тест, зафиксировать победу одной из групп. 2. Остановить тест, зафиксировать отсутствие различий между группами. 3. Продолжить тест.</li>\n",
    "</ul>"
   ]
  },
  {
   "cell_type": "markdown",
   "id": "822938c1",
   "metadata": {},
   "source": [
    "# Выполнение проекта "
   ]
  },
  {
   "cell_type": "code",
   "execution_count": 1,
   "id": "645aa2b3",
   "metadata": {},
   "outputs": [],
   "source": [
    "# Импортириуем необходимые для работы библиотеки\n",
    "import pandas as pd\n",
    "import numpy as np\n",
    "import matplotlib.pyplot as plt\n",
    "import seaborn as sns\n",
    "from datetime import datetime, timedelta\n",
    "import math\n",
    "from scipy import stats as st"
   ]
  },
  {
   "cell_type": "code",
   "execution_count": 2,
   "id": "6a18631e",
   "metadata": {},
   "outputs": [],
   "source": [
    "import plotly.io as pio\n",
    "pio.renderers.default = \"svg\"\n",
    "svg_renderer = pio.renderers[\"svg\"]\n",
    "svg_renderer.scale = 1.2"
   ]
  },
  {
   "cell_type": "code",
   "execution_count": 3,
   "id": "91a2d78b",
   "metadata": {},
   "outputs": [],
   "source": [
    "try:\n",
    "    hypothesis = pd.read_csv('https://code.s3.yandex.net/datasets/hypothesis.csv', sep=',')\n",
    "    orders = pd.read_csv('https://code.s3.yandex.net/datasets/orders.csv', sep=',')\n",
    "    visitors = pd.read_csv('https://code.s3.yandex.net/datasets/visitors.csv', sep=',')\n",
    "except:\n",
    "    hypothesis = pd.read_csv('/datasets/hypothesis.csv', sep=',')\n",
    "    orders = pd.read_csv('/datasets/orders.csv', sep=',')\n",
    "    visitors = pd.read_csv('/datasets/visitors.csv', sep=',')"
   ]
  },
  {
   "cell_type": "markdown",
   "id": "bbed2ea1",
   "metadata": {},
   "source": [
    "### Ознакомление с данными и предобработка данных"
   ]
  },
  {
   "cell_type": "code",
   "execution_count": 4,
   "id": "d379b002",
   "metadata": {},
   "outputs": [
    {
     "data": {
      "text/html": [
       "<div>\n",
       "<style scoped>\n",
       "    .dataframe tbody tr th:only-of-type {\n",
       "        vertical-align: middle;\n",
       "    }\n",
       "\n",
       "    .dataframe tbody tr th {\n",
       "        vertical-align: top;\n",
       "    }\n",
       "\n",
       "    .dataframe thead th {\n",
       "        text-align: right;\n",
       "    }\n",
       "</style>\n",
       "<table border=\"1\" class=\"dataframe\">\n",
       "  <thead>\n",
       "    <tr style=\"text-align: right;\">\n",
       "      <th></th>\n",
       "      <th>Hypothesis</th>\n",
       "      <th>Reach</th>\n",
       "      <th>Impact</th>\n",
       "      <th>Confidence</th>\n",
       "      <th>Efforts</th>\n",
       "    </tr>\n",
       "  </thead>\n",
       "  <tbody>\n",
       "    <tr>\n",
       "      <th>0</th>\n",
       "      <td>Добавить два новых канала привлечения трафика,...</td>\n",
       "      <td>3</td>\n",
       "      <td>10</td>\n",
       "      <td>8</td>\n",
       "      <td>6</td>\n",
       "    </tr>\n",
       "    <tr>\n",
       "      <th>1</th>\n",
       "      <td>Запустить собственную службу доставки, что сок...</td>\n",
       "      <td>2</td>\n",
       "      <td>5</td>\n",
       "      <td>4</td>\n",
       "      <td>10</td>\n",
       "    </tr>\n",
       "    <tr>\n",
       "      <th>2</th>\n",
       "      <td>Добавить блоки рекомендаций товаров на сайт ин...</td>\n",
       "      <td>8</td>\n",
       "      <td>3</td>\n",
       "      <td>7</td>\n",
       "      <td>3</td>\n",
       "    </tr>\n",
       "    <tr>\n",
       "      <th>3</th>\n",
       "      <td>Изменить структура категорий, что увеличит кон...</td>\n",
       "      <td>8</td>\n",
       "      <td>3</td>\n",
       "      <td>3</td>\n",
       "      <td>8</td>\n",
       "    </tr>\n",
       "    <tr>\n",
       "      <th>4</th>\n",
       "      <td>Изменить цвет фона главной страницы, чтобы уве...</td>\n",
       "      <td>3</td>\n",
       "      <td>1</td>\n",
       "      <td>1</td>\n",
       "      <td>1</td>\n",
       "    </tr>\n",
       "    <tr>\n",
       "      <th>5</th>\n",
       "      <td>Добавить страницу отзывов клиентов о магазине,...</td>\n",
       "      <td>3</td>\n",
       "      <td>2</td>\n",
       "      <td>2</td>\n",
       "      <td>3</td>\n",
       "    </tr>\n",
       "    <tr>\n",
       "      <th>6</th>\n",
       "      <td>Показать на главной странице баннеры с актуаль...</td>\n",
       "      <td>5</td>\n",
       "      <td>3</td>\n",
       "      <td>8</td>\n",
       "      <td>3</td>\n",
       "    </tr>\n",
       "    <tr>\n",
       "      <th>7</th>\n",
       "      <td>Добавить форму подписки на все основные страни...</td>\n",
       "      <td>10</td>\n",
       "      <td>7</td>\n",
       "      <td>8</td>\n",
       "      <td>5</td>\n",
       "    </tr>\n",
       "    <tr>\n",
       "      <th>8</th>\n",
       "      <td>Запустить акцию, дающую скидку на товар в день...</td>\n",
       "      <td>1</td>\n",
       "      <td>9</td>\n",
       "      <td>9</td>\n",
       "      <td>5</td>\n",
       "    </tr>\n",
       "  </tbody>\n",
       "</table>\n",
       "</div>"
      ],
      "text/plain": [
       "                                          Hypothesis  Reach  Impact  \\\n",
       "0  Добавить два новых канала привлечения трафика,...      3      10   \n",
       "1  Запустить собственную службу доставки, что сок...      2       5   \n",
       "2  Добавить блоки рекомендаций товаров на сайт ин...      8       3   \n",
       "3  Изменить структура категорий, что увеличит кон...      8       3   \n",
       "4  Изменить цвет фона главной страницы, чтобы уве...      3       1   \n",
       "5  Добавить страницу отзывов клиентов о магазине,...      3       2   \n",
       "6  Показать на главной странице баннеры с актуаль...      5       3   \n",
       "7  Добавить форму подписки на все основные страни...     10       7   \n",
       "8  Запустить акцию, дающую скидку на товар в день...      1       9   \n",
       "\n",
       "   Confidence  Efforts  \n",
       "0           8        6  \n",
       "1           4       10  \n",
       "2           7        3  \n",
       "3           3        8  \n",
       "4           1        1  \n",
       "5           2        3  \n",
       "6           8        3  \n",
       "7           8        5  \n",
       "8           9        5  "
      ]
     },
     "execution_count": 4,
     "metadata": {},
     "output_type": "execute_result"
    }
   ],
   "source": [
    "hypothesis"
   ]
  },
  {
   "cell_type": "code",
   "execution_count": 5,
   "id": "58cabf71",
   "metadata": {},
   "outputs": [
    {
     "data": {
      "text/html": [
       "<div>\n",
       "<style scoped>\n",
       "    .dataframe tbody tr th:only-of-type {\n",
       "        vertical-align: middle;\n",
       "    }\n",
       "\n",
       "    .dataframe tbody tr th {\n",
       "        vertical-align: top;\n",
       "    }\n",
       "\n",
       "    .dataframe thead th {\n",
       "        text-align: right;\n",
       "    }\n",
       "</style>\n",
       "<table border=\"1\" class=\"dataframe\">\n",
       "  <thead>\n",
       "    <tr style=\"text-align: right;\">\n",
       "      <th></th>\n",
       "      <th>transactionId</th>\n",
       "      <th>visitorId</th>\n",
       "      <th>date</th>\n",
       "      <th>revenue</th>\n",
       "      <th>group</th>\n",
       "    </tr>\n",
       "  </thead>\n",
       "  <tbody>\n",
       "    <tr>\n",
       "      <th>0</th>\n",
       "      <td>3667963787</td>\n",
       "      <td>3312258926</td>\n",
       "      <td>2019-08-15</td>\n",
       "      <td>1650</td>\n",
       "      <td>B</td>\n",
       "    </tr>\n",
       "    <tr>\n",
       "      <th>1</th>\n",
       "      <td>2804400009</td>\n",
       "      <td>3642806036</td>\n",
       "      <td>2019-08-15</td>\n",
       "      <td>730</td>\n",
       "      <td>B</td>\n",
       "    </tr>\n",
       "    <tr>\n",
       "      <th>2</th>\n",
       "      <td>2961555356</td>\n",
       "      <td>4069496402</td>\n",
       "      <td>2019-08-15</td>\n",
       "      <td>400</td>\n",
       "      <td>A</td>\n",
       "    </tr>\n",
       "    <tr>\n",
       "      <th>3</th>\n",
       "      <td>3797467345</td>\n",
       "      <td>1196621759</td>\n",
       "      <td>2019-08-15</td>\n",
       "      <td>9759</td>\n",
       "      <td>B</td>\n",
       "    </tr>\n",
       "    <tr>\n",
       "      <th>4</th>\n",
       "      <td>2282983706</td>\n",
       "      <td>2322279887</td>\n",
       "      <td>2019-08-15</td>\n",
       "      <td>2308</td>\n",
       "      <td>B</td>\n",
       "    </tr>\n",
       "    <tr>\n",
       "      <th>...</th>\n",
       "      <td>...</td>\n",
       "      <td>...</td>\n",
       "      <td>...</td>\n",
       "      <td>...</td>\n",
       "      <td>...</td>\n",
       "    </tr>\n",
       "    <tr>\n",
       "      <th>1192</th>\n",
       "      <td>2662137336</td>\n",
       "      <td>3733762160</td>\n",
       "      <td>2019-08-14</td>\n",
       "      <td>6490</td>\n",
       "      <td>B</td>\n",
       "    </tr>\n",
       "    <tr>\n",
       "      <th>1193</th>\n",
       "      <td>2203539145</td>\n",
       "      <td>370388673</td>\n",
       "      <td>2019-08-14</td>\n",
       "      <td>3190</td>\n",
       "      <td>A</td>\n",
       "    </tr>\n",
       "    <tr>\n",
       "      <th>1194</th>\n",
       "      <td>1807773912</td>\n",
       "      <td>573423106</td>\n",
       "      <td>2019-08-14</td>\n",
       "      <td>10550</td>\n",
       "      <td>A</td>\n",
       "    </tr>\n",
       "    <tr>\n",
       "      <th>1195</th>\n",
       "      <td>1947021204</td>\n",
       "      <td>1614305549</td>\n",
       "      <td>2019-08-14</td>\n",
       "      <td>100</td>\n",
       "      <td>A</td>\n",
       "    </tr>\n",
       "    <tr>\n",
       "      <th>1196</th>\n",
       "      <td>3936777065</td>\n",
       "      <td>2108080724</td>\n",
       "      <td>2019-08-15</td>\n",
       "      <td>202740</td>\n",
       "      <td>B</td>\n",
       "    </tr>\n",
       "  </tbody>\n",
       "</table>\n",
       "<p>1197 rows × 5 columns</p>\n",
       "</div>"
      ],
      "text/plain": [
       "      transactionId   visitorId        date  revenue group\n",
       "0        3667963787  3312258926  2019-08-15     1650     B\n",
       "1        2804400009  3642806036  2019-08-15      730     B\n",
       "2        2961555356  4069496402  2019-08-15      400     A\n",
       "3        3797467345  1196621759  2019-08-15     9759     B\n",
       "4        2282983706  2322279887  2019-08-15     2308     B\n",
       "...             ...         ...         ...      ...   ...\n",
       "1192     2662137336  3733762160  2019-08-14     6490     B\n",
       "1193     2203539145   370388673  2019-08-14     3190     A\n",
       "1194     1807773912   573423106  2019-08-14    10550     A\n",
       "1195     1947021204  1614305549  2019-08-14      100     A\n",
       "1196     3936777065  2108080724  2019-08-15   202740     B\n",
       "\n",
       "[1197 rows x 5 columns]"
      ]
     },
     "execution_count": 5,
     "metadata": {},
     "output_type": "execute_result"
    }
   ],
   "source": [
    "orders"
   ]
  },
  {
   "cell_type": "code",
   "execution_count": 6,
   "id": "099bc0b0",
   "metadata": {},
   "outputs": [
    {
     "name": "stdout",
     "output_type": "stream",
     "text": [
      "<class 'pandas.core.frame.DataFrame'>\n",
      "RangeIndex: 1197 entries, 0 to 1196\n",
      "Data columns (total 5 columns):\n",
      " #   Column         Non-Null Count  Dtype \n",
      "---  ------         --------------  ----- \n",
      " 0   transactionId  1197 non-null   int64 \n",
      " 1   visitorId      1197 non-null   int64 \n",
      " 2   date           1197 non-null   object\n",
      " 3   revenue        1197 non-null   int64 \n",
      " 4   group          1197 non-null   object\n",
      "dtypes: int64(3), object(2)\n",
      "memory usage: 46.9+ KB\n"
     ]
    }
   ],
   "source": [
    "orders.info()"
   ]
  },
  {
   "cell_type": "code",
   "execution_count": 7,
   "id": "36887264",
   "metadata": {},
   "outputs": [
    {
     "data": {
      "text/plain": [
       "transactionId    0\n",
       "visitorId        0\n",
       "date             0\n",
       "revenue          0\n",
       "group            0\n",
       "dtype: int64"
      ]
     },
     "execution_count": 7,
     "metadata": {},
     "output_type": "execute_result"
    }
   ],
   "source": [
    "orders.isna().sum()"
   ]
  },
  {
   "cell_type": "code",
   "execution_count": 8,
   "id": "ccc45f88",
   "metadata": {},
   "outputs": [
    {
     "data": {
      "text/plain": [
       "0"
      ]
     },
     "execution_count": 8,
     "metadata": {},
     "output_type": "execute_result"
    }
   ],
   "source": [
    "orders.duplicated().sum()"
   ]
  },
  {
   "cell_type": "code",
   "execution_count": 9,
   "id": "267a1936",
   "metadata": {},
   "outputs": [],
   "source": [
    "orders.rename(columns={'transactionId':'transactionid', 'visitorId':'visitorid'}, inplace=True)"
   ]
  },
  {
   "cell_type": "code",
   "execution_count": 10,
   "id": "e86358fe",
   "metadata": {},
   "outputs": [
    {
     "data": {
      "text/html": [
       "<div>\n",
       "<style scoped>\n",
       "    .dataframe tbody tr th:only-of-type {\n",
       "        vertical-align: middle;\n",
       "    }\n",
       "\n",
       "    .dataframe tbody tr th {\n",
       "        vertical-align: top;\n",
       "    }\n",
       "\n",
       "    .dataframe thead th {\n",
       "        text-align: right;\n",
       "    }\n",
       "</style>\n",
       "<table border=\"1\" class=\"dataframe\">\n",
       "  <thead>\n",
       "    <tr style=\"text-align: right;\">\n",
       "      <th></th>\n",
       "      <th>date</th>\n",
       "      <th>group</th>\n",
       "      <th>visitors</th>\n",
       "    </tr>\n",
       "  </thead>\n",
       "  <tbody>\n",
       "    <tr>\n",
       "      <th>0</th>\n",
       "      <td>2019-08-01</td>\n",
       "      <td>A</td>\n",
       "      <td>719</td>\n",
       "    </tr>\n",
       "    <tr>\n",
       "      <th>1</th>\n",
       "      <td>2019-08-02</td>\n",
       "      <td>A</td>\n",
       "      <td>619</td>\n",
       "    </tr>\n",
       "    <tr>\n",
       "      <th>2</th>\n",
       "      <td>2019-08-03</td>\n",
       "      <td>A</td>\n",
       "      <td>507</td>\n",
       "    </tr>\n",
       "    <tr>\n",
       "      <th>3</th>\n",
       "      <td>2019-08-04</td>\n",
       "      <td>A</td>\n",
       "      <td>717</td>\n",
       "    </tr>\n",
       "    <tr>\n",
       "      <th>4</th>\n",
       "      <td>2019-08-05</td>\n",
       "      <td>A</td>\n",
       "      <td>756</td>\n",
       "    </tr>\n",
       "    <tr>\n",
       "      <th>...</th>\n",
       "      <td>...</td>\n",
       "      <td>...</td>\n",
       "      <td>...</td>\n",
       "    </tr>\n",
       "    <tr>\n",
       "      <th>57</th>\n",
       "      <td>2019-08-27</td>\n",
       "      <td>B</td>\n",
       "      <td>720</td>\n",
       "    </tr>\n",
       "    <tr>\n",
       "      <th>58</th>\n",
       "      <td>2019-08-28</td>\n",
       "      <td>B</td>\n",
       "      <td>654</td>\n",
       "    </tr>\n",
       "    <tr>\n",
       "      <th>59</th>\n",
       "      <td>2019-08-29</td>\n",
       "      <td>B</td>\n",
       "      <td>531</td>\n",
       "    </tr>\n",
       "    <tr>\n",
       "      <th>60</th>\n",
       "      <td>2019-08-30</td>\n",
       "      <td>B</td>\n",
       "      <td>490</td>\n",
       "    </tr>\n",
       "    <tr>\n",
       "      <th>61</th>\n",
       "      <td>2019-08-31</td>\n",
       "      <td>B</td>\n",
       "      <td>718</td>\n",
       "    </tr>\n",
       "  </tbody>\n",
       "</table>\n",
       "<p>62 rows × 3 columns</p>\n",
       "</div>"
      ],
      "text/plain": [
       "          date group  visitors\n",
       "0   2019-08-01     A       719\n",
       "1   2019-08-02     A       619\n",
       "2   2019-08-03     A       507\n",
       "3   2019-08-04     A       717\n",
       "4   2019-08-05     A       756\n",
       "..         ...   ...       ...\n",
       "57  2019-08-27     B       720\n",
       "58  2019-08-28     B       654\n",
       "59  2019-08-29     B       531\n",
       "60  2019-08-30     B       490\n",
       "61  2019-08-31     B       718\n",
       "\n",
       "[62 rows x 3 columns]"
      ]
     },
     "execution_count": 10,
     "metadata": {},
     "output_type": "execute_result"
    }
   ],
   "source": [
    "visitors"
   ]
  },
  {
   "cell_type": "code",
   "execution_count": 11,
   "id": "65392234",
   "metadata": {},
   "outputs": [
    {
     "name": "stdout",
     "output_type": "stream",
     "text": [
      "<class 'pandas.core.frame.DataFrame'>\n",
      "RangeIndex: 62 entries, 0 to 61\n",
      "Data columns (total 3 columns):\n",
      " #   Column    Non-Null Count  Dtype \n",
      "---  ------    --------------  ----- \n",
      " 0   date      62 non-null     object\n",
      " 1   group     62 non-null     object\n",
      " 2   visitors  62 non-null     int64 \n",
      "dtypes: int64(1), object(2)\n",
      "memory usage: 1.6+ KB\n"
     ]
    }
   ],
   "source": [
    "visitors.info()"
   ]
  },
  {
   "cell_type": "code",
   "execution_count": 12,
   "id": "ca1f1502",
   "metadata": {},
   "outputs": [
    {
     "data": {
      "text/plain": [
       "date        0\n",
       "group       0\n",
       "visitors    0\n",
       "dtype: int64"
      ]
     },
     "execution_count": 12,
     "metadata": {},
     "output_type": "execute_result"
    }
   ],
   "source": [
    "visitors.isna().sum()"
   ]
  },
  {
   "cell_type": "code",
   "execution_count": 13,
   "id": "36967484",
   "metadata": {},
   "outputs": [
    {
     "data": {
      "text/plain": [
       "0"
      ]
     },
     "execution_count": 13,
     "metadata": {},
     "output_type": "execute_result"
    }
   ],
   "source": [
    "visitors.duplicated().sum()"
   ]
  },
  {
   "cell_type": "markdown",
   "id": "91ef7922",
   "metadata": {},
   "source": [
    "В таблицах orders и visitors необходимо привести столбцы с датами к правильному типу данных"
   ]
  },
  {
   "cell_type": "code",
   "execution_count": 14,
   "id": "b16f24e4",
   "metadata": {},
   "outputs": [],
   "source": [
    "orders['date'] = pd.to_datetime(orders['date'])"
   ]
  },
  {
   "cell_type": "code",
   "execution_count": 15,
   "id": "c3a41d96",
   "metadata": {},
   "outputs": [],
   "source": [
    "visitors['date'] = pd.to_datetime(visitors['date'])"
   ]
  },
  {
   "cell_type": "markdown",
   "id": "4b6368f3",
   "metadata": {},
   "source": [
    "Проверим количество заказов по группам"
   ]
  },
  {
   "cell_type": "code",
   "execution_count": 16,
   "id": "8bed0f57",
   "metadata": {},
   "outputs": [
    {
     "data": {
      "text/plain": [
       "B    640\n",
       "A    557\n",
       "Name: group, dtype: int64"
      ]
     },
     "execution_count": 16,
     "metadata": {},
     "output_type": "execute_result"
    }
   ],
   "source": [
    "orders.group.value_counts()"
   ]
  },
  {
   "cell_type": "markdown",
   "id": "1bdfd7c3",
   "metadata": {},
   "source": [
    "Также необходимо проверить является ли разница между количеством посетителей в группах значимой"
   ]
  },
  {
   "cell_type": "code",
   "execution_count": 17,
   "id": "096e15d9",
   "metadata": {},
   "outputs": [
    {
     "name": "stdout",
     "output_type": "stream",
     "text": [
      "P-value:0.7301376549390499\n",
      "Разница в количестве посетителей в группах A и B статистически НЕ значима\n",
      "\n"
     ]
    }
   ],
   "source": [
    "results = st.mannwhitneyu(visitors[visitors['group']=='A']['visitors'], visitors[visitors['group']=='B']['visitors'])\n",
    "alpha = 0.05\n",
    "print('P-value:{}'.format(results.pvalue))\n",
    "if results.pvalue < alpha:\n",
    "    print('Разница в количестве посетителей в группах A и B статистически значима\\n')\n",
    "else:\n",
    "    print('Разница в количестве посетителей в группах A и B статистически НЕ значима\\n')"
   ]
  },
  {
   "cell_type": "markdown",
   "id": "176191a0",
   "metadata": {},
   "source": [
    "Отлично. Разница для проведения теста не значительна. Следующим этапом необходимо проверить, существуют ли пользователи, которые оказались в двух группах сразу. Это необходимо чтобы исключить проблему подглядывания."
   ]
  },
  {
   "cell_type": "code",
   "execution_count": 18,
   "id": "1c83a6b3",
   "metadata": {},
   "outputs": [],
   "source": [
    "groupa = orders.query('group == \"A\"')"
   ]
  },
  {
   "cell_type": "code",
   "execution_count": 19,
   "id": "00f60a70",
   "metadata": {},
   "outputs": [],
   "source": [
    "groupb = orders.query('group == \"B\"')"
   ]
  },
  {
   "cell_type": "code",
   "execution_count": 20,
   "id": "c24946da",
   "metadata": {},
   "outputs": [
    {
     "data": {
      "text/html": [
       "<div>\n",
       "<style scoped>\n",
       "    .dataframe tbody tr th:only-of-type {\n",
       "        vertical-align: middle;\n",
       "    }\n",
       "\n",
       "    .dataframe tbody tr th {\n",
       "        vertical-align: top;\n",
       "    }\n",
       "\n",
       "    .dataframe thead th {\n",
       "        text-align: right;\n",
       "    }\n",
       "</style>\n",
       "<table border=\"1\" class=\"dataframe\">\n",
       "  <thead>\n",
       "    <tr style=\"text-align: right;\">\n",
       "      <th></th>\n",
       "      <th>transactionid</th>\n",
       "      <th>visitorid</th>\n",
       "      <th>date</th>\n",
       "      <th>revenue</th>\n",
       "      <th>group</th>\n",
       "    </tr>\n",
       "  </thead>\n",
       "  <tbody>\n",
       "    <tr>\n",
       "      <th>2</th>\n",
       "      <td>2961555356</td>\n",
       "      <td>4069496402</td>\n",
       "      <td>2019-08-15</td>\n",
       "      <td>400</td>\n",
       "      <td>A</td>\n",
       "    </tr>\n",
       "    <tr>\n",
       "      <th>26</th>\n",
       "      <td>2223239646</td>\n",
       "      <td>199603092</td>\n",
       "      <td>2019-08-15</td>\n",
       "      <td>3488</td>\n",
       "      <td>A</td>\n",
       "    </tr>\n",
       "    <tr>\n",
       "      <th>29</th>\n",
       "      <td>2220299125</td>\n",
       "      <td>3803269165</td>\n",
       "      <td>2019-08-15</td>\n",
       "      <td>700</td>\n",
       "      <td>A</td>\n",
       "    </tr>\n",
       "    <tr>\n",
       "      <th>33</th>\n",
       "      <td>486237576</td>\n",
       "      <td>2378935119</td>\n",
       "      <td>2019-08-15</td>\n",
       "      <td>1650</td>\n",
       "      <td>A</td>\n",
       "    </tr>\n",
       "    <tr>\n",
       "      <th>41</th>\n",
       "      <td>2594268419</td>\n",
       "      <td>237748145</td>\n",
       "      <td>2019-08-15</td>\n",
       "      <td>1090</td>\n",
       "      <td>A</td>\n",
       "    </tr>\n",
       "    <tr>\n",
       "      <th>...</th>\n",
       "      <td>...</td>\n",
       "      <td>...</td>\n",
       "      <td>...</td>\n",
       "      <td>...</td>\n",
       "      <td>...</td>\n",
       "    </tr>\n",
       "    <tr>\n",
       "      <th>1167</th>\n",
       "      <td>3757656646</td>\n",
       "      <td>4186807279</td>\n",
       "      <td>2019-08-14</td>\n",
       "      <td>4990</td>\n",
       "      <td>A</td>\n",
       "    </tr>\n",
       "    <tr>\n",
       "      <th>1173</th>\n",
       "      <td>3612788481</td>\n",
       "      <td>2712142231</td>\n",
       "      <td>2019-08-14</td>\n",
       "      <td>2490</td>\n",
       "      <td>A</td>\n",
       "    </tr>\n",
       "    <tr>\n",
       "      <th>1178</th>\n",
       "      <td>4052155355</td>\n",
       "      <td>2949041841</td>\n",
       "      <td>2019-08-14</td>\n",
       "      <td>190</td>\n",
       "      <td>A</td>\n",
       "    </tr>\n",
       "    <tr>\n",
       "      <th>1183</th>\n",
       "      <td>1458356232</td>\n",
       "      <td>963407295</td>\n",
       "      <td>2019-08-14</td>\n",
       "      <td>4940</td>\n",
       "      <td>A</td>\n",
       "    </tr>\n",
       "    <tr>\n",
       "      <th>1195</th>\n",
       "      <td>1947021204</td>\n",
       "      <td>1614305549</td>\n",
       "      <td>2019-08-14</td>\n",
       "      <td>100</td>\n",
       "      <td>A</td>\n",
       "    </tr>\n",
       "  </tbody>\n",
       "</table>\n",
       "<p>89 rows × 5 columns</p>\n",
       "</div>"
      ],
      "text/plain": [
       "      transactionid   visitorid       date  revenue group\n",
       "2        2961555356  4069496402 2019-08-15      400     A\n",
       "26       2223239646   199603092 2019-08-15     3488     A\n",
       "29       2220299125  3803269165 2019-08-15      700     A\n",
       "33        486237576  2378935119 2019-08-15     1650     A\n",
       "41       2594268419   237748145 2019-08-15     1090     A\n",
       "...             ...         ...        ...      ...   ...\n",
       "1167     3757656646  4186807279 2019-08-14     4990     A\n",
       "1173     3612788481  2712142231 2019-08-14     2490     A\n",
       "1178     4052155355  2949041841 2019-08-14      190     A\n",
       "1183     1458356232   963407295 2019-08-14     4940     A\n",
       "1195     1947021204  1614305549 2019-08-14      100     A\n",
       "\n",
       "[89 rows x 5 columns]"
      ]
     },
     "execution_count": 20,
     "metadata": {},
     "output_type": "execute_result"
    }
   ],
   "source": [
    "ids = groupb[\"visitorid\"]\n",
    "res = groupa.query(\"visitorid in @ids\")\n",
    "res"
   ]
  },
  {
   "cell_type": "code",
   "execution_count": 21,
   "id": "36f80993",
   "metadata": {},
   "outputs": [
    {
     "name": "stdout",
     "output_type": "stream",
     "text": [
      "Пользователей оказавшихся в обеих группах:  58\n"
     ]
    }
   ],
   "source": [
    "print('Пользователей оказавшихся в обеих группах: ', res.visitorid.nunique())"
   ]
  },
  {
   "cell_type": "code",
   "execution_count": 22,
   "id": "dca84328",
   "metadata": {},
   "outputs": [
    {
     "name": "stdout",
     "output_type": "stream",
     "text": [
      "Всего уникальных пользователей:  1031\n"
     ]
    }
   ],
   "source": [
    "print ('Всего уникальных пользователей: ', orders.visitorid.nunique())"
   ]
  },
  {
   "cell_type": "code",
   "execution_count": 23,
   "id": "16e96b1f",
   "metadata": {},
   "outputs": [
    {
     "name": "stdout",
     "output_type": "stream",
     "text": [
      "Уникальных пользователй в группе А:  503\n",
      "Уникальных пользователй в группе В:  586\n"
     ]
    }
   ],
   "source": [
    "print ('Уникальных пользователй в группе А: ',groupa.visitorid.nunique())\n",
    "print ('Уникальных пользователй в группе В: ',groupb.visitorid.nunique())"
   ]
  },
  {
   "cell_type": "markdown",
   "id": "64e84b8c",
   "metadata": {},
   "source": [
    "Общее количество заказов в группах не совпадает: в группе А 557 заказов, в группе В - 640. Также не совпадает количество уникальных пользователкй: в группе А - 503, а в группе В - 586. Кроме того, в группе А и группе В оказалось 58 пользователей одновременно. Что создает проблему подглядывания. Если пользователь видит разные версии исследуемой страницы в ходе одного исследования, неизвестно, какая именно повлияла на его решения. Стоит отметить, что относительно общего количестива пользователей, повторяющихся значений не так много.\n",
    "Считаю, что удаление таких пользователей может сказаться не совсем корректно, ведь мы не можем выявить данных пользователей в данных visitors. Поэтому примем решение, оставить данных пользователей в обоих группах."
   ]
  },
  {
   "cell_type": "markdown",
   "id": "3759f7ed",
   "metadata": {},
   "source": [
    "В остальном проблем с данными нет. Можно приступать к основной части задания"
   ]
  },
  {
   "cell_type": "markdown",
   "id": "f94b01e1",
   "metadata": {},
   "source": [
    "## Часть 1. Приоритизация гипотез."
   ]
  },
  {
   "cell_type": "markdown",
   "id": "0a7bf669",
   "metadata": {},
   "source": [
    "Применим фреймворк ICE для приоритизации гипотез. Создадим столбец в дф с гипотезами."
   ]
  },
  {
   "cell_type": "code",
   "execution_count": 24,
   "id": "c66574d9",
   "metadata": {},
   "outputs": [],
   "source": [
    "hypothesis['ICE'] = hypothesis['Impact'] * hypothesis['Confidence'] / hypothesis['Efforts']"
   ]
  },
  {
   "cell_type": "markdown",
   "id": "08e09f7d",
   "metadata": {},
   "source": [
    "Отсортируем их по убыванию приоритета"
   ]
  },
  {
   "cell_type": "code",
   "execution_count": 25,
   "id": "cc9af410",
   "metadata": {},
   "outputs": [
    {
     "data": {
      "image/png": "[encoded data removed]",
      "text/plain": [
       "<Figure size 640x480 with 1 Axes>"
      ]
     },
     "metadata": {},
     "output_type": "display_data"
    }
   ],
   "source": [
    "ax = hypothesis[['Hypothesis', 'ICE']].set_index('Hypothesis').sort_values('ICE', ascending=True).plot(kind='barh')\n",
    "ax.set_xlabel('Приоритет')\n",
    "ax.set_ylabel('Гипотеза')\n",
    "ax.set_title('ICE')\n",
    "plt.show()"
   ]
  },
  {
   "cell_type": "markdown",
   "id": "316a5234",
   "metadata": {},
   "source": [
    "Теперь применим фреймворк RICE. Создадим соответствующй столбец в дф с гипотезами."
   ]
  },
  {
   "cell_type": "code",
   "execution_count": 26,
   "id": "1b749643",
   "metadata": {},
   "outputs": [],
   "source": [
    "hypothesis['RICE'] = hypothesis['Reach'] * hypothesis['Impact'] * hypothesis['Confidence'] / hypothesis['Efforts']"
   ]
  },
  {
   "cell_type": "code",
   "execution_count": 27,
   "id": "9b8f5db9",
   "metadata": {},
   "outputs": [
    {
     "data": {
      "image/png": "[encoded data removed]",
      "text/plain": [
       "<Figure size 640x480 with 1 Axes>"
      ]
     },
     "metadata": {},
     "output_type": "display_data"
    }
   ],
   "source": [
    "ax = hypothesis[['Hypothesis', 'RICE']].set_index('Hypothesis').sort_values('RICE', ascending=True).plot(kind='barh')\n",
    "ax.set_xlabel('Приоритет')\n",
    "ax.set_ylabel('Гипотеза')\n",
    "ax.set_title('RICE')\n",
    "plt.show()"
   ]
  },
  {
   "cell_type": "markdown",
   "id": "37919b33",
   "metadata": {},
   "source": [
    "Укажите, как изменилась приоритизация гипотез при применении RICE вместо ICE. Объясните, почему так произошло."
   ]
  },
  {
   "cell_type": "code",
   "execution_count": 28,
   "id": "5ba31754",
   "metadata": {},
   "outputs": [
    {
     "data": {
      "text/html": [
       "<div>\n",
       "<style scoped>\n",
       "    .dataframe tbody tr th:only-of-type {\n",
       "        vertical-align: middle;\n",
       "    }\n",
       "\n",
       "    .dataframe tbody tr th {\n",
       "        vertical-align: top;\n",
       "    }\n",
       "\n",
       "    .dataframe thead th {\n",
       "        text-align: right;\n",
       "    }\n",
       "</style>\n",
       "<table border=\"1\" class=\"dataframe\">\n",
       "  <thead>\n",
       "    <tr style=\"text-align: right;\">\n",
       "      <th></th>\n",
       "      <th>Hypothesis</th>\n",
       "      <th>Reach</th>\n",
       "      <th>Impact</th>\n",
       "      <th>Confidence</th>\n",
       "      <th>Efforts</th>\n",
       "      <th>ICE</th>\n",
       "      <th>RICE</th>\n",
       "    </tr>\n",
       "  </thead>\n",
       "  <tbody>\n",
       "    <tr>\n",
       "      <th>8</th>\n",
       "      <td>Запустить акцию, дающую скидку на товар в день...</td>\n",
       "      <td>1</td>\n",
       "      <td>9</td>\n",
       "      <td>9</td>\n",
       "      <td>5</td>\n",
       "      <td>16.200000</td>\n",
       "      <td>16.2</td>\n",
       "    </tr>\n",
       "    <tr>\n",
       "      <th>0</th>\n",
       "      <td>Добавить два новых канала привлечения трафика,...</td>\n",
       "      <td>3</td>\n",
       "      <td>10</td>\n",
       "      <td>8</td>\n",
       "      <td>6</td>\n",
       "      <td>13.333333</td>\n",
       "      <td>40.0</td>\n",
       "    </tr>\n",
       "    <tr>\n",
       "      <th>7</th>\n",
       "      <td>Добавить форму подписки на все основные страни...</td>\n",
       "      <td>10</td>\n",
       "      <td>7</td>\n",
       "      <td>8</td>\n",
       "      <td>5</td>\n",
       "      <td>11.200000</td>\n",
       "      <td>112.0</td>\n",
       "    </tr>\n",
       "    <tr>\n",
       "      <th>6</th>\n",
       "      <td>Показать на главной странице баннеры с актуаль...</td>\n",
       "      <td>5</td>\n",
       "      <td>3</td>\n",
       "      <td>8</td>\n",
       "      <td>3</td>\n",
       "      <td>8.000000</td>\n",
       "      <td>40.0</td>\n",
       "    </tr>\n",
       "    <tr>\n",
       "      <th>2</th>\n",
       "      <td>Добавить блоки рекомендаций товаров на сайт ин...</td>\n",
       "      <td>8</td>\n",
       "      <td>3</td>\n",
       "      <td>7</td>\n",
       "      <td>3</td>\n",
       "      <td>7.000000</td>\n",
       "      <td>56.0</td>\n",
       "    </tr>\n",
       "    <tr>\n",
       "      <th>1</th>\n",
       "      <td>Запустить собственную службу доставки, что сок...</td>\n",
       "      <td>2</td>\n",
       "      <td>5</td>\n",
       "      <td>4</td>\n",
       "      <td>10</td>\n",
       "      <td>2.000000</td>\n",
       "      <td>4.0</td>\n",
       "    </tr>\n",
       "    <tr>\n",
       "      <th>5</th>\n",
       "      <td>Добавить страницу отзывов клиентов о магазине,...</td>\n",
       "      <td>3</td>\n",
       "      <td>2</td>\n",
       "      <td>2</td>\n",
       "      <td>3</td>\n",
       "      <td>1.333333</td>\n",
       "      <td>4.0</td>\n",
       "    </tr>\n",
       "    <tr>\n",
       "      <th>3</th>\n",
       "      <td>Изменить структура категорий, что увеличит кон...</td>\n",
       "      <td>8</td>\n",
       "      <td>3</td>\n",
       "      <td>3</td>\n",
       "      <td>8</td>\n",
       "      <td>1.125000</td>\n",
       "      <td>9.0</td>\n",
       "    </tr>\n",
       "    <tr>\n",
       "      <th>4</th>\n",
       "      <td>Изменить цвет фона главной страницы, чтобы уве...</td>\n",
       "      <td>3</td>\n",
       "      <td>1</td>\n",
       "      <td>1</td>\n",
       "      <td>1</td>\n",
       "      <td>1.000000</td>\n",
       "      <td>3.0</td>\n",
       "    </tr>\n",
       "  </tbody>\n",
       "</table>\n",
       "</div>"
      ],
      "text/plain": [
       "                                          Hypothesis  Reach  Impact  \\\n",
       "8  Запустить акцию, дающую скидку на товар в день...      1       9   \n",
       "0  Добавить два новых канала привлечения трафика,...      3      10   \n",
       "7  Добавить форму подписки на все основные страни...     10       7   \n",
       "6  Показать на главной странице баннеры с актуаль...      5       3   \n",
       "2  Добавить блоки рекомендаций товаров на сайт ин...      8       3   \n",
       "1  Запустить собственную службу доставки, что сок...      2       5   \n",
       "5  Добавить страницу отзывов клиентов о магазине,...      3       2   \n",
       "3  Изменить структура категорий, что увеличит кон...      8       3   \n",
       "4  Изменить цвет фона главной страницы, чтобы уве...      3       1   \n",
       "\n",
       "   Confidence  Efforts        ICE   RICE  \n",
       "8           9        5  16.200000   16.2  \n",
       "0           8        6  13.333333   40.0  \n",
       "7           8        5  11.200000  112.0  \n",
       "6           8        3   8.000000   40.0  \n",
       "2           7        3   7.000000   56.0  \n",
       "1           4       10   2.000000    4.0  \n",
       "5           2        3   1.333333    4.0  \n",
       "3           3        8   1.125000    9.0  \n",
       "4           1        1   1.000000    3.0  "
      ]
     },
     "execution_count": 28,
     "metadata": {},
     "output_type": "execute_result"
    }
   ],
   "source": [
    "hypothesis.sort_values('ICE', ascending=False).head(9)"
   ]
  },
  {
   "cell_type": "code",
   "execution_count": 29,
   "id": "bbbff531",
   "metadata": {},
   "outputs": [
    {
     "data": {
      "text/html": [
       "<div>\n",
       "<style scoped>\n",
       "    .dataframe tbody tr th:only-of-type {\n",
       "        vertical-align: middle;\n",
       "    }\n",
       "\n",
       "    .dataframe tbody tr th {\n",
       "        vertical-align: top;\n",
       "    }\n",
       "\n",
       "    .dataframe thead th {\n",
       "        text-align: right;\n",
       "    }\n",
       "</style>\n",
       "<table border=\"1\" class=\"dataframe\">\n",
       "  <thead>\n",
       "    <tr style=\"text-align: right;\">\n",
       "      <th></th>\n",
       "      <th>Hypothesis</th>\n",
       "      <th>Reach</th>\n",
       "      <th>Impact</th>\n",
       "      <th>Confidence</th>\n",
       "      <th>Efforts</th>\n",
       "      <th>ICE</th>\n",
       "      <th>RICE</th>\n",
       "    </tr>\n",
       "  </thead>\n",
       "  <tbody>\n",
       "    <tr>\n",
       "      <th>7</th>\n",
       "      <td>Добавить форму подписки на все основные страни...</td>\n",
       "      <td>10</td>\n",
       "      <td>7</td>\n",
       "      <td>8</td>\n",
       "      <td>5</td>\n",
       "      <td>11.200000</td>\n",
       "      <td>112.0</td>\n",
       "    </tr>\n",
       "    <tr>\n",
       "      <th>2</th>\n",
       "      <td>Добавить блоки рекомендаций товаров на сайт ин...</td>\n",
       "      <td>8</td>\n",
       "      <td>3</td>\n",
       "      <td>7</td>\n",
       "      <td>3</td>\n",
       "      <td>7.000000</td>\n",
       "      <td>56.0</td>\n",
       "    </tr>\n",
       "    <tr>\n",
       "      <th>0</th>\n",
       "      <td>Добавить два новых канала привлечения трафика,...</td>\n",
       "      <td>3</td>\n",
       "      <td>10</td>\n",
       "      <td>8</td>\n",
       "      <td>6</td>\n",
       "      <td>13.333333</td>\n",
       "      <td>40.0</td>\n",
       "    </tr>\n",
       "    <tr>\n",
       "      <th>6</th>\n",
       "      <td>Показать на главной странице баннеры с актуаль...</td>\n",
       "      <td>5</td>\n",
       "      <td>3</td>\n",
       "      <td>8</td>\n",
       "      <td>3</td>\n",
       "      <td>8.000000</td>\n",
       "      <td>40.0</td>\n",
       "    </tr>\n",
       "    <tr>\n",
       "      <th>8</th>\n",
       "      <td>Запустить акцию, дающую скидку на товар в день...</td>\n",
       "      <td>1</td>\n",
       "      <td>9</td>\n",
       "      <td>9</td>\n",
       "      <td>5</td>\n",
       "      <td>16.200000</td>\n",
       "      <td>16.2</td>\n",
       "    </tr>\n",
       "    <tr>\n",
       "      <th>3</th>\n",
       "      <td>Изменить структура категорий, что увеличит кон...</td>\n",
       "      <td>8</td>\n",
       "      <td>3</td>\n",
       "      <td>3</td>\n",
       "      <td>8</td>\n",
       "      <td>1.125000</td>\n",
       "      <td>9.0</td>\n",
       "    </tr>\n",
       "    <tr>\n",
       "      <th>1</th>\n",
       "      <td>Запустить собственную службу доставки, что сок...</td>\n",
       "      <td>2</td>\n",
       "      <td>5</td>\n",
       "      <td>4</td>\n",
       "      <td>10</td>\n",
       "      <td>2.000000</td>\n",
       "      <td>4.0</td>\n",
       "    </tr>\n",
       "    <tr>\n",
       "      <th>5</th>\n",
       "      <td>Добавить страницу отзывов клиентов о магазине,...</td>\n",
       "      <td>3</td>\n",
       "      <td>2</td>\n",
       "      <td>2</td>\n",
       "      <td>3</td>\n",
       "      <td>1.333333</td>\n",
       "      <td>4.0</td>\n",
       "    </tr>\n",
       "    <tr>\n",
       "      <th>4</th>\n",
       "      <td>Изменить цвет фона главной страницы, чтобы уве...</td>\n",
       "      <td>3</td>\n",
       "      <td>1</td>\n",
       "      <td>1</td>\n",
       "      <td>1</td>\n",
       "      <td>1.000000</td>\n",
       "      <td>3.0</td>\n",
       "    </tr>\n",
       "  </tbody>\n",
       "</table>\n",
       "</div>"
      ],
      "text/plain": [
       "                                          Hypothesis  Reach  Impact  \\\n",
       "7  Добавить форму подписки на все основные страни...     10       7   \n",
       "2  Добавить блоки рекомендаций товаров на сайт ин...      8       3   \n",
       "0  Добавить два новых канала привлечения трафика,...      3      10   \n",
       "6  Показать на главной странице баннеры с актуаль...      5       3   \n",
       "8  Запустить акцию, дающую скидку на товар в день...      1       9   \n",
       "3  Изменить структура категорий, что увеличит кон...      8       3   \n",
       "1  Запустить собственную службу доставки, что сок...      2       5   \n",
       "5  Добавить страницу отзывов клиентов о магазине,...      3       2   \n",
       "4  Изменить цвет фона главной страницы, чтобы уве...      3       1   \n",
       "\n",
       "   Confidence  Efforts        ICE   RICE  \n",
       "7           8        5  11.200000  112.0  \n",
       "2           7        3   7.000000   56.0  \n",
       "0           8        6  13.333333   40.0  \n",
       "6           8        3   8.000000   40.0  \n",
       "8           9        5  16.200000   16.2  \n",
       "3           3        8   1.125000    9.0  \n",
       "1           4       10   2.000000    4.0  \n",
       "5           2        3   1.333333    4.0  \n",
       "4           1        1   1.000000    3.0  "
      ]
     },
     "execution_count": 29,
     "metadata": {},
     "output_type": "execute_result"
    }
   ],
   "source": [
    "hypothesis.sort_values('RICE', ascending=False).head(9)"
   ]
  },
  {
   "cell_type": "markdown",
   "id": "fa931ac6",
   "metadata": {},
   "source": [
    "Можно проследить, что при применении фреймворков ICE и RICE результат отличается друг от друга. Это происходит потому что при расчете RICE учитывается охват. Но не смотря на различия методов этих техник приоритизации можно пронаблюдать гипотез, которые занимают лидирующие места в обоих методах."
   ]
  },
  {
   "cell_type": "markdown",
   "id": "bbaf1bc9",
   "metadata": {},
   "source": [
    "**Вывод**"
   ]
  },
  {
   "cell_type": "code",
   "execution_count": 30,
   "id": "b161d35b",
   "metadata": {},
   "outputs": [
    {
     "data": {
      "text/html": [
       "<div>\n",
       "<style scoped>\n",
       "    .dataframe tbody tr th:only-of-type {\n",
       "        vertical-align: middle;\n",
       "    }\n",
       "\n",
       "    .dataframe tbody tr th {\n",
       "        vertical-align: top;\n",
       "    }\n",
       "\n",
       "    .dataframe thead th {\n",
       "        text-align: right;\n",
       "    }\n",
       "</style>\n",
       "<table border=\"1\" class=\"dataframe\">\n",
       "  <thead>\n",
       "    <tr style=\"text-align: right;\">\n",
       "      <th></th>\n",
       "      <th>Hypothesis</th>\n",
       "      <th>ICE</th>\n",
       "      <th>RICE</th>\n",
       "    </tr>\n",
       "  </thead>\n",
       "  <tbody>\n",
       "    <tr>\n",
       "      <th>0</th>\n",
       "      <td>Добавить два новых канала привлечения трафика,...</td>\n",
       "      <td>13.333333</td>\n",
       "      <td>40.0</td>\n",
       "    </tr>\n",
       "    <tr>\n",
       "      <th>1</th>\n",
       "      <td>Запустить собственную службу доставки, что сок...</td>\n",
       "      <td>2.000000</td>\n",
       "      <td>4.0</td>\n",
       "    </tr>\n",
       "    <tr>\n",
       "      <th>2</th>\n",
       "      <td>Добавить блоки рекомендаций товаров на сайт ин...</td>\n",
       "      <td>7.000000</td>\n",
       "      <td>56.0</td>\n",
       "    </tr>\n",
       "    <tr>\n",
       "      <th>3</th>\n",
       "      <td>Изменить структура категорий, что увеличит кон...</td>\n",
       "      <td>1.125000</td>\n",
       "      <td>9.0</td>\n",
       "    </tr>\n",
       "    <tr>\n",
       "      <th>4</th>\n",
       "      <td>Изменить цвет фона главной страницы, чтобы уве...</td>\n",
       "      <td>1.000000</td>\n",
       "      <td>3.0</td>\n",
       "    </tr>\n",
       "    <tr>\n",
       "      <th>5</th>\n",
       "      <td>Добавить страницу отзывов клиентов о магазине,...</td>\n",
       "      <td>1.333333</td>\n",
       "      <td>4.0</td>\n",
       "    </tr>\n",
       "    <tr>\n",
       "      <th>6</th>\n",
       "      <td>Показать на главной странице баннеры с актуаль...</td>\n",
       "      <td>8.000000</td>\n",
       "      <td>40.0</td>\n",
       "    </tr>\n",
       "    <tr>\n",
       "      <th>7</th>\n",
       "      <td>Добавить форму подписки на все основные страни...</td>\n",
       "      <td>11.200000</td>\n",
       "      <td>112.0</td>\n",
       "    </tr>\n",
       "    <tr>\n",
       "      <th>8</th>\n",
       "      <td>Запустить акцию, дающую скидку на товар в день...</td>\n",
       "      <td>16.200000</td>\n",
       "      <td>16.2</td>\n",
       "    </tr>\n",
       "  </tbody>\n",
       "</table>\n",
       "</div>"
      ],
      "text/plain": [
       "                                          Hypothesis        ICE   RICE\n",
       "0  Добавить два новых канала привлечения трафика,...  13.333333   40.0\n",
       "1  Запустить собственную службу доставки, что сок...   2.000000    4.0\n",
       "2  Добавить блоки рекомендаций товаров на сайт ин...   7.000000   56.0\n",
       "3  Изменить структура категорий, что увеличит кон...   1.125000    9.0\n",
       "4  Изменить цвет фона главной страницы, чтобы уве...   1.000000    3.0\n",
       "5  Добавить страницу отзывов клиентов о магазине,...   1.333333    4.0\n",
       "6  Показать на главной странице баннеры с актуаль...   8.000000   40.0\n",
       "7  Добавить форму подписки на все основные страни...  11.200000  112.0\n",
       "8  Запустить акцию, дающую скидку на товар в день...  16.200000   16.2"
      ]
     },
     "execution_count": 30,
     "metadata": {},
     "output_type": "execute_result"
    }
   ],
   "source": [
    "hypothesis_priority = hypothesis[['Hypothesis', 'ICE', 'RICE']]\n",
    "hypothesis_priority.sort_values(by='ICE', ascending=False)\n",
    "hypothesis_priority"
   ]
  },
  {
   "cell_type": "code",
   "execution_count": 31,
   "id": "ec58de6c",
   "metadata": {},
   "outputs": [
    {
     "data": {
      "image/png": "[encoded data removed]",
      "text/plain": [
       "<Figure size 1000x500 with 1 Axes>"
      ]
     },
     "metadata": {},
     "output_type": "display_data"
    }
   ],
   "source": [
    "hypothesis_priority.sort_values(by='ICE', ascending=False).plot(kind='bar',figsize=(10,5),grid=True)\n",
    "plt.title('Сравнительная диаграмма приоритетности гипотез');\n",
    "plt.xlabel('Индекс гипотезы');\n",
    "plt.ylabel('Приоритет');\n",
    "plt.show();"
   ]
  },
  {
   "cell_type": "markdown",
   "id": "bef156f0",
   "metadata": {},
   "source": [
    "Можно пронаблюдать следующие тенденции:\n",
    "<ul>\n",
    "<li>Фреймворк ICE предлагает следующие лидируюшие решения: Запустить акцию, дающую скидку на товар в день рождения, Добавить два новых канала привлечения трафика, что позволит привлекать на 30% больше пользователей, Добавить форму подписки на все основные страницы, чтобы собрать базу клиентов для email-рассылок (пункты 8, 0, 7) </li>\n",
    "<li>Фреймфорк RICE же предлагает немного иную приоритизацию: Добавить форму подписки на все основные страницы, чтобы собрать базу клиентов для email-рассылок, Добавить блоки рекомендаций товаров на сайт интернет магазина, чтобы повысить конверсию и средний чек заказа и с одинковым количеством условных единиц предлагается: Добавить два новых канала привлечения трафика, что позволит привлекать на 30% больше пользователей и Показать на главной странице баннеры с актуальными акциями и распродажами, чтобы увеличить конверсию (пункты 7, 2, 0, 6)</li>\n",
    "<li> Можно проследитть сходства между результатами фреймворка ICE и RICE. Наиболее удачными для реализации гипотезами будет: Добавить два новых канала привлечения трафика, что позволит привлекать на 30% больше пользователей, Добавить форму подписки на все основные страницы, чтобы собрать базу клиентов для email-рассылок и Показать на главной странице баннеры с актуальными акциями и распродажами, чтобы увеличить конверсию (пункты 0,7,6)  </li>\n",
    "</ul>"
   ]
  },
  {
   "cell_type": "markdown",
   "id": "886f9433",
   "metadata": {},
   "source": [
    "## Часть 2. Анализ A/B-теста"
   ]
  },
  {
   "cell_type": "markdown",
   "id": "1dad657a",
   "metadata": {},
   "source": [
    "Создадим таблицу с кумулятивными значениями  "
   ]
  },
  {
   "cell_type": "code",
   "execution_count": 32,
   "id": "1284977d",
   "metadata": {},
   "outputs": [],
   "source": [
    "orders_grouped = (orders.groupby(['date','group'], as_index=False)\n",
    "                        .agg({'transactionid':'nunique','visitorid':'nunique','revenue':'sum'}))\\\n",
    "                        .rename(columns={'transactionid':'orders','visitorid':'buyers'})\n",
    "orders_grouped['group_copy'] = orders_grouped['group']\n",
    "orders_grouped = orders_grouped.set_index(['date','group'])\n",
    "orders_cumsum = orders_grouped.sort_values(['date','group']).groupby('group_copy').cumsum().reset_index()"
   ]
  },
  {
   "cell_type": "code",
   "execution_count": 33,
   "id": "fd318046",
   "metadata": {},
   "outputs": [],
   "source": [
    "# посчитаем сумму визитов по дням в каждой группе\n",
    "visitors_cumsum = visitors.groupby(['date','group'], as_index=False).agg({'visitors':'sum'}).sort_values(['date','group'])\n",
    "# скопируем group чтобы провести по ней сумму с накоплением\n",
    "visitors_cumsum['group_copy'] = visitors_cumsum['group']\n",
    "visitors_cumsum = visitors_cumsum.set_index(['date','group']).groupby('group_copy').cumsum().reset_index()    "
   ]
  },
  {
   "cell_type": "code",
   "execution_count": 34,
   "id": "3f236950",
   "metadata": {},
   "outputs": [],
   "source": [
    "cummulative = orders_cumsum.join(visitors_cumsum[['visitors']])"
   ]
  },
  {
   "cell_type": "code",
   "execution_count": 35,
   "id": "9f8942db",
   "metadata": {},
   "outputs": [],
   "source": [
    "cummulative['average_check'] = cummulative['revenue'] / cummulative['orders']\n",
    "cummulative['conversion'] = cummulative['orders'] / cummulative['visitors']"
   ]
  },
  {
   "cell_type": "code",
   "execution_count": 36,
   "id": "bf5e7580",
   "metadata": {},
   "outputs": [
    {
     "data": {
      "text/html": [
       "<div>\n",
       "<style scoped>\n",
       "    .dataframe tbody tr th:only-of-type {\n",
       "        vertical-align: middle;\n",
       "    }\n",
       "\n",
       "    .dataframe tbody tr th {\n",
       "        vertical-align: top;\n",
       "    }\n",
       "\n",
       "    .dataframe thead th {\n",
       "        text-align: right;\n",
       "    }\n",
       "</style>\n",
       "<table border=\"1\" class=\"dataframe\">\n",
       "  <thead>\n",
       "    <tr style=\"text-align: right;\">\n",
       "      <th></th>\n",
       "      <th>date</th>\n",
       "      <th>group</th>\n",
       "      <th>orders</th>\n",
       "      <th>buyers</th>\n",
       "      <th>revenue</th>\n",
       "      <th>visitors</th>\n",
       "      <th>average_check</th>\n",
       "      <th>conversion</th>\n",
       "    </tr>\n",
       "  </thead>\n",
       "  <tbody>\n",
       "    <tr>\n",
       "      <th>0</th>\n",
       "      <td>2019-08-01</td>\n",
       "      <td>A</td>\n",
       "      <td>24</td>\n",
       "      <td>20</td>\n",
       "      <td>148579</td>\n",
       "      <td>719</td>\n",
       "      <td>6190.791667</td>\n",
       "      <td>0.033380</td>\n",
       "    </tr>\n",
       "    <tr>\n",
       "      <th>1</th>\n",
       "      <td>2019-08-01</td>\n",
       "      <td>B</td>\n",
       "      <td>21</td>\n",
       "      <td>20</td>\n",
       "      <td>101217</td>\n",
       "      <td>713</td>\n",
       "      <td>4819.857143</td>\n",
       "      <td>0.029453</td>\n",
       "    </tr>\n",
       "    <tr>\n",
       "      <th>2</th>\n",
       "      <td>2019-08-02</td>\n",
       "      <td>A</td>\n",
       "      <td>44</td>\n",
       "      <td>39</td>\n",
       "      <td>242401</td>\n",
       "      <td>1338</td>\n",
       "      <td>5509.113636</td>\n",
       "      <td>0.032885</td>\n",
       "    </tr>\n",
       "    <tr>\n",
       "      <th>3</th>\n",
       "      <td>2019-08-02</td>\n",
       "      <td>B</td>\n",
       "      <td>45</td>\n",
       "      <td>43</td>\n",
       "      <td>266748</td>\n",
       "      <td>1294</td>\n",
       "      <td>5927.733333</td>\n",
       "      <td>0.034776</td>\n",
       "    </tr>\n",
       "    <tr>\n",
       "      <th>4</th>\n",
       "      <td>2019-08-03</td>\n",
       "      <td>A</td>\n",
       "      <td>68</td>\n",
       "      <td>63</td>\n",
       "      <td>354874</td>\n",
       "      <td>1845</td>\n",
       "      <td>5218.735294</td>\n",
       "      <td>0.036856</td>\n",
       "    </tr>\n",
       "  </tbody>\n",
       "</table>\n",
       "</div>"
      ],
      "text/plain": [
       "        date group  orders  buyers  revenue  visitors  average_check  \\\n",
       "0 2019-08-01     A      24      20   148579       719    6190.791667   \n",
       "1 2019-08-01     B      21      20   101217       713    4819.857143   \n",
       "2 2019-08-02     A      44      39   242401      1338    5509.113636   \n",
       "3 2019-08-02     B      45      43   266748      1294    5927.733333   \n",
       "4 2019-08-03     A      68      63   354874      1845    5218.735294   \n",
       "\n",
       "   conversion  \n",
       "0    0.033380  \n",
       "1    0.029453  \n",
       "2    0.032885  \n",
       "3    0.034776  \n",
       "4    0.036856  "
      ]
     },
     "execution_count": 36,
     "metadata": {},
     "output_type": "execute_result"
    }
   ],
   "source": [
    "cummulative.head()"
   ]
  },
  {
   "cell_type": "markdown",
   "id": "20186718",
   "metadata": {},
   "source": [
    "### 1.\tПостроение графика кумулятивной выручки по группам"
   ]
  },
  {
   "cell_type": "code",
   "execution_count": 37,
   "id": "09af8ba8",
   "metadata": {},
   "outputs": [
    {
     "data": {
      "image/png": "[encoded data removed]",
      "text/plain": [
       "<Figure size 640x480 with 1 Axes>"
      ]
     },
     "metadata": {},
     "output_type": "display_data"
    }
   ],
   "source": [
    "cummulativeA = cummulative[cummulative['group']=='A'][['date', 'revenue']]\n",
    "cummulativeB = cummulative[cummulative['group']=='B'][['date', 'revenue']]\n",
    "plt.plot(cummulativeA.iloc[:,0].to_frame(), cummulativeA.iloc[:,1].to_frame(), label='A' )\n",
    "plt.plot(cummulativeB.iloc[:,0].to_frame(), cummulativeB.iloc[:,1].to_frame(), label='B')\n",
    "plt.title('График кумулятивной выручки по группам')\n",
    "plt.xlabel(\"Дата\")\n",
    "plt.ylabel(\"Выручка\")\n",
    "plt.xticks(rotation=90)\n",
    "ax.grid()\n",
    "plt.legend()\n",
    "plt.show()"
   ]
  },
  {
   "cell_type": "markdown",
   "id": "51578b1c",
   "metadata": {},
   "source": [
    "На полученном графике можно проследить, что группа А идет стабильно и плавно. В группе В с 18 августа имеется отскок. В целом группа В в среднем приносит больше средств."
   ]
  },
  {
   "cell_type": "markdown",
   "id": "03c78241",
   "metadata": {},
   "source": [
    "### 2. Построение графика кумулятивного среднего чека по группам"
   ]
  },
  {
   "cell_type": "code",
   "execution_count": 38,
   "id": "6a2cb932",
   "metadata": {},
   "outputs": [
    {
     "data": {
      "image/png": "[encoded data removed]",
      "text/plain": [
       "<Figure size 640x480 with 1 Axes>"
      ]
     },
     "metadata": {},
     "output_type": "display_data"
    }
   ],
   "source": [
    "cummulativeA = cummulative[cummulative['group']=='A'][['date', 'average_check']]\n",
    "cummulativeB = cummulative[cummulative['group']=='B'][['date', 'average_check']]\n",
    "plt.plot(cummulativeA.iloc[:,0].to_frame(), cummulativeA.iloc[:,1].to_frame(), label='A' )\n",
    "plt.plot(cummulativeB.iloc[:,0].to_frame(), cummulativeB.iloc[:,1].to_frame(), label='B')\n",
    "plt.title('График кумулятивного среднего чека по группам')\n",
    "plt.xlabel(\"Дата\")\n",
    "plt.ylabel(\"Средний чек\")\n",
    "plt.xticks(rotation=90)\n",
    "plt.legend()\n",
    "plt.show()"
   ]
  },
  {
   "cell_type": "markdown",
   "id": "67b457ec",
   "metadata": {},
   "source": [
    "Средний чек у группы В также расет с мощным отскоком в районке 18 августа. Группа А же в начале исследуемого периода имела снижение среднего чека. "
   ]
  },
  {
   "cell_type": "markdown",
   "id": "ca64d731",
   "metadata": {},
   "source": [
    "### 3.\tПостроение графика относительного изменения кумулятивного среднего чека группы B к группе A"
   ]
  },
  {
   "cell_type": "code",
   "execution_count": 39,
   "id": "3b654e9d",
   "metadata": {},
   "outputs": [
    {
     "data": {
      "image/png": "[encoded data removed]",
      "text/plain": [
       "<Figure size 640x480 with 1 Axes>"
      ]
     },
     "metadata": {},
     "output_type": "display_data"
    }
   ],
   "source": [
    "temp = (cummulativeA[['date', 'average_check']].merge(cummulativeB[['date', 'average_check']], \n",
    "                                            left_on='date', right_on='date', how='left', suffixes=['_A', '_B']))\n",
    "plt.plot(temp['date'], temp['average_check_B'] / temp['average_check_A']-1)\n",
    "plt.title('График относительного изменения кумулятивного среднего чека группы B к группе A')\n",
    "plt.axhline(y=0, color='red', linestyle='--')\n",
    "plt.xticks(rotation=90)\n",
    "plt.xlabel('Дата');\n",
    "plt.ylabel('Относительное изменение')\n",
    "plt.show()"
   ]
  },
  {
   "cell_type": "markdown",
   "id": "25cf52be",
   "metadata": {},
   "source": [
    "На полученном графике также можно заметить резкий скачок в районе 18.08.2019. "
   ]
  },
  {
   "cell_type": "markdown",
   "id": "576394fa",
   "metadata": {},
   "source": [
    "### 4.\tПостроение графика кумулятивного среднего количества заказов на посетителя по группам"
   ]
  },
  {
   "cell_type": "code",
   "execution_count": 40,
   "id": "b6447380",
   "metadata": {},
   "outputs": [
    {
     "data": {
      "image/png": "[encoded data removed]",
      "text/plain": [
       "<Figure size 640x480 with 1 Axes>"
      ]
     },
     "metadata": {},
     "output_type": "display_data"
    }
   ],
   "source": [
    "cummulativeA = cummulative[cummulative['group']=='A'][['date', 'conversion']]\n",
    "cummulativeB = cummulative[cummulative['group']=='B'][['date', 'conversion']]\n",
    "plt.plot(cummulativeA.iloc[:,0].to_frame(), cummulativeA.iloc[:,1].to_frame(), label='A' )\n",
    "plt.plot(cummulativeB.iloc[:,0].to_frame(), cummulativeB.iloc[:,1].to_frame(), label='B')\n",
    "plt.title('График кумулятивного среднего количества заказов на посетителя по группам')\n",
    "plt.xlabel('Дата');\n",
    "plt.ylabel('Кумулятивное среднее к-во заказов к пользователю')\n",
    "plt.xticks(rotation=90)\n",
    "plt.legend()\n",
    "plt.show()"
   ]
  },
  {
   "cell_type": "markdown",
   "id": "39b16490",
   "metadata": {},
   "source": [
    "Можно увидеть, что ~~конверсия~~ кумулятивный средний чек к пользователю группы В куда больше чем у группы А. Можно также пронаблюдать почти синхронный скачок у обеих групп в районе 02-03.08.2019. и Резкое падение 04.08.2019. Среднее количество заказов группы А находится в основной в диапазоне 0.03-0.031, у группы В - 0.33-0.36"
   ]
  },
  {
   "cell_type": "markdown",
   "id": "7d8fda25",
   "metadata": {},
   "source": [
    "### 5.\tПостроение графика относительного изменения кумулятивного среднего количества заказов на посетителя группы B к группе A"
   ]
  },
  {
   "cell_type": "code",
   "execution_count": 41,
   "id": "29047d47",
   "metadata": {},
   "outputs": [
    {
     "data": {
      "image/png": "[encoded data removed]",
      "text/plain": [
       "<Figure size 640x480 with 1 Axes>"
      ]
     },
     "metadata": {},
     "output_type": "display_data"
    }
   ],
   "source": [
    "temp = (cummulativeA[['date', 'conversion']].merge(cummulativeB[['date', 'conversion']], \n",
    "                                            left_on='date', right_on='date', how='left', suffixes=['_A', '_B']))\n",
    "plt.plot(temp['date'], temp['conversion_B'] / temp['conversion_A']-1)\n",
    "plt.title('График относительного изменения кумулятивного среднего количества заказов на посетителя')\n",
    "plt.ylabel('Относительное изменение')\n",
    "plt.xlabel('Дата')\n",
    "plt.axhline(y=0, color='red', linestyle='--')\n",
    "plt.xticks(rotation=90)\n",
    "plt.show()"
   ]
  },
  {
   "cell_type": "markdown",
   "id": "ed33c66d",
   "metadata": {},
   "source": [
    "Можно пронаблюдать, что после резкого падения 02.08.2019 начался бурный рост относительного изменения кумулятивного среднего количества заказов на посетителя."
   ]
  },
  {
   "cell_type": "markdown",
   "id": "815929ff",
   "metadata": {},
   "source": [
    "### 6.\tПостроение точечного графика количества заказов по пользователям."
   ]
  },
  {
   "cell_type": "markdown",
   "id": "7f361b2d",
   "metadata": {},
   "source": [
    "Создадим отдельный дф для подсчета количества заказов"
   ]
  },
  {
   "cell_type": "code",
   "execution_count": 42,
   "id": "ff6be710",
   "metadata": {},
   "outputs": [],
   "source": [
    "orders_per_user = orders.groupby('visitorid', as_index=False).agg({'transactionid':'nunique'})\\\n",
    "                         .rename(columns={'transactionid':'orders'})"
   ]
  },
  {
   "cell_type": "code",
   "execution_count": 43,
   "id": "98c75d90",
   "metadata": {},
   "outputs": [
    {
     "data": {
      "text/plain": [
       "1     937\n",
       "2      64\n",
       "3      17\n",
       "5       6\n",
       "4       3\n",
       "11      2\n",
       "8       1\n",
       "9       1\n",
       "Name: orders, dtype: int64"
      ]
     },
     "execution_count": 43,
     "metadata": {},
     "output_type": "execute_result"
    }
   ],
   "source": [
    "orders_per_user.orders.value_counts()"
   ]
  },
  {
   "cell_type": "markdown",
   "id": "f186c3db",
   "metadata": {},
   "source": [
    "Построим график"
   ]
  },
  {
   "cell_type": "code",
   "execution_count": 44,
   "id": "a1fb19ec",
   "metadata": {},
   "outputs": [
    {
     "data": {
      "image/png": "[encoded data removed]",
      "text/plain": [
       "<Figure size 640x480 with 1 Axes>"
      ]
     },
     "metadata": {},
     "output_type": "display_data"
    }
   ],
   "source": [
    "x_values = pd.Series(range(0,len(orders_per_user['orders'])))\n",
    "plt.scatter(x_values, orders_per_user['orders'])\n",
    "plt.title('Точечный график количества заказов по пользователям');\n",
    "plt.xlabel('Пользователи');\n",
    "plt.ylabel('Кол-во заказов');\n",
    "plt.show()"
   ]
  },
  {
   "cell_type": "markdown",
   "id": "93f68a1b",
   "metadata": {},
   "source": [
    "В основном пользователи за месяц делают от одного до двух заказов. Но есть пользователи покупающие товары в интернет магазине и от 4х раз. Максимумом по заказом является 11 покупок за месяц. Либо это техническая ошибка, либо человек явно зависим от интернет магазинов :) "
   ]
  },
  {
   "cell_type": "markdown",
   "id": "6c6c5938",
   "metadata": {},
   "source": [
    "### 7.\tПосчет 95-й и 99-й перцентили количества заказов на пользователя. Выбор границы для определения аномальных пользователей."
   ]
  },
  {
   "cell_type": "code",
   "execution_count": 45,
   "id": "b3b4dd8f",
   "metadata": {},
   "outputs": [
    {
     "name": "stdout",
     "output_type": "stream",
     "text": [
      "90 перцентиль количества заказов: 1.00\n",
      "95 перцентиль количества заказов: 2.00\n",
      "99 перцентиль количества заказов: 4.00\n"
     ]
    }
   ],
   "source": [
    "print('90 перцентиль количества заказов: %.2f' % (np.percentile(orders_per_user['orders'], [90])))\n",
    "print('95 перцентиль количества заказов: %.2f' % (np.percentile(orders_per_user['orders'], [95])))\n",
    "print('99 перцентиль количества заказов: %.2f' % (np.percentile(orders_per_user['orders'], [99])))"
   ]
  },
  {
   "cell_type": "markdown",
   "id": "f1688a0b",
   "metadata": {},
   "source": [
    "Ранее мы уже определили, что максимальное число заказов - 11"
   ]
  },
  {
   "cell_type": "markdown",
   "id": "125686f4",
   "metadata": {},
   "source": [
    "Основной костяк из выборки заказывает 1-2 раза. Предлагаю выбрать аномалиями все, что находится за 95 перцентилем. То есть все что более 2 - аномалия"
   ]
  },
  {
   "cell_type": "markdown",
   "id": "e75f53e6",
   "metadata": {},
   "source": [
    "### 8.\tПостроение точечного графика стоимостей заказов"
   ]
  },
  {
   "cell_type": "code",
   "execution_count": 46,
   "id": "98f4bcff",
   "metadata": {},
   "outputs": [
    {
     "data": {
      "image/png": "[encoded data removed]",
      "text/plain": [
       "<Figure size 640x480 with 1 Axes>"
      ]
     },
     "metadata": {},
     "output_type": "display_data"
    }
   ],
   "source": [
    "x_values = pd.Series(range(0,len(orders['revenue'])))\n",
    "plt.scatter(x_values, orders['revenue'], color='blue',s = 5)\n",
    "plt.title('Точечный график стоимости заказов по пользователям')\n",
    "plt.xlabel('Пользователи')\n",
    "plt.ylabel('Стоимость заказов')\n",
    "plt.show()"
   ]
  },
  {
   "cell_type": "markdown",
   "id": "2ba0c3f1",
   "metadata": {},
   "source": [
    "Большинство стоимостей заказов не превышают отметку в 100000. Также можно увидеть два выброса."
   ]
  },
  {
   "cell_type": "markdown",
   "id": "8a557ae5",
   "metadata": {},
   "source": [
    "Рассмотрим полученный график детельнее, без учета двух выбросов"
   ]
  },
  {
   "cell_type": "code",
   "execution_count": 47,
   "id": "3721b7f2",
   "metadata": {},
   "outputs": [
    {
     "data": {
      "image/png": "[encoded data removed]",
      "text/plain": [
       "<Figure size 640x480 with 1 Axes>"
      ]
     },
     "metadata": {},
     "output_type": "display_data"
    }
   ],
   "source": [
    "x_values = pd.Series(range(0,len(orders['revenue'])))\n",
    "plt.scatter(x_values, orders['revenue'], color='blue',s = 5)\n",
    "plt.ylim([0, 100000])\n",
    "plt.title('Точечный график стоимости заказов по пользователям')\n",
    "plt.xlabel('Пользователи')\n",
    "plt.ylabel('Стоимость заказов')\n",
    "plt.show()"
   ]
  },
  {
   "cell_type": "markdown",
   "id": "bcd13bad",
   "metadata": {},
   "source": [
    "### 9.\tПосчет 95-й и 99-й перцентили стоимости заказов. Выбор границы для определения аномальных заказов."
   ]
  },
  {
   "cell_type": "code",
   "execution_count": 48,
   "id": "4247412b",
   "metadata": {},
   "outputs": [
    {
     "name": "stdout",
     "output_type": "stream",
     "text": [
      "90 перцентиль стоимости заказов: 18168.00\n",
      "95 перцентиль стоимости заказов: 28000.00\n",
      "99 перцентиль стоимости заказов: 58233.20\n"
     ]
    }
   ],
   "source": [
    "print('90 перцентиль стоимости заказов: %.2f' % (np.percentile(orders['revenue'], [90])))\n",
    "print('95 перцентиль стоимости заказов: %.2f' % (np.percentile(orders['revenue'], [95])))\n",
    "print('99 перцентиль стоимости заказов: %.2f' % (np.percentile(orders['revenue'], [99])))"
   ]
  },
  {
   "cell_type": "code",
   "execution_count": 49,
   "id": "b5556161",
   "metadata": {},
   "outputs": [
    {
     "name": "stdout",
     "output_type": "stream",
     "text": [
      "50\n",
      "1294500\n"
     ]
    }
   ],
   "source": [
    "print (orders.revenue.min())\n",
    "print (orders.revenue.max())"
   ]
  },
  {
   "cell_type": "markdown",
   "id": "4585845e",
   "metadata": {},
   "source": [
    "Считаю, что все, что находится за 95 перцентилем (28000) - аномалия. "
   ]
  },
  {
   "cell_type": "markdown",
   "id": "3c3eff96",
   "metadata": {},
   "source": [
    "### 10.\tПосчет статистической значимости различий в среднем количестве заказов на посетителя между группами по «сырым» данным."
   ]
  },
  {
   "cell_type": "markdown",
   "id": "942ebc62",
   "metadata": {},
   "source": [
    "Посчитаем статистику по группам для дальнейшего анализа"
   ]
  },
  {
   "cell_type": "code",
   "execution_count": 50,
   "id": "9e0ed7b6",
   "metadata": {},
   "outputs": [
    {
     "name": "stdout",
     "output_type": "stream",
     "text": [
      "Кол-во покупателей в группе A: 503\n",
      "Кол-во покупок в группе А: 557\n",
      "Кол-во посетителей в группе A: 18736\n",
      "\n",
      "Кол-во покупателей в группе B: 586\n",
      "Кол-во покупок в группе B: 640\n",
      "Кол-во посетителей в группе B: 18916\n"
     ]
    }
   ],
   "source": [
    "ordersByUsersA = orders[orders['group']=='A'].groupby('visitorid', as_index=False).agg({'transactionid':'nunique'})\n",
    "ordersByUsersA.columns = ['visitorid', 'orders']\n",
    "ordersByUsersB = orders[orders['group']=='B'].groupby('visitorid', as_index=False).agg({'transactionid':'nunique'})\n",
    "ordersByUsersB.columns = ['visitorid', 'orders']\n",
    "print('Кол-во покупателей в группе A: {}'.format(len(ordersByUsersA)))\n",
    "print('Кол-во покупок в группе А: {}'.format(ordersByUsersA['orders'].sum()))\n",
    "print('Кол-во посетителей в группе A: {}\\n'.format(visitors[visitors['group']=='A']['visitors'].sum()))\n",
    "print('Кол-во покупателей в группе B: {}'.format(len(ordersByUsersB)))\n",
    "print('Кол-во покупок в группе B: {}'.format(ordersByUsersB['orders'].sum()))\n",
    "print('Кол-во посетителей в группе B: {}'.format(visitors[visitors['group']=='B']['visitors'].sum()))\n"
   ]
  },
  {
   "cell_type": "markdown",
   "id": "aee5b6db",
   "metadata": {},
   "source": [
    "**Составим списки кол-ва заказов группы A и группы B со всеми пользователями по группам и проведем непараметрический тест Уилкоксона-Манна-Уитни, так как в данных есть выбросы.**"
   ]
  },
  {
   "cell_type": "markdown",
   "id": "712f6bef",
   "metadata": {},
   "source": [
    "**Сформулируем гипотезы.**\n",
    "\n",
    "- Н0: различий в среднем количестве заказов на посетителя между группами нет. \n",
    "- Н1: различия в среднем количестве заказов на посетителя между группами есть."
   ]
  },
  {
   "cell_type": "code",
   "execution_count": 51,
   "id": "e7cb387f",
   "metadata": {},
   "outputs": [
    {
     "name": "stdout",
     "output_type": "stream",
     "text": [
      "\n",
      "Относительный показатель группы B по отношению к группе A: 0.138\n",
      "P-value: 0.016792355056752608\n",
      "По неочищенным данным различия в среднем между группами есть!\n"
     ]
    }
   ],
   "source": [
    "\n",
    "list_orders_1 =[]\n",
    "for i in range(0,(visitors[visitors['group']=='A']['visitors'].sum()-len(ordersByUsersA))):\n",
    "    list_orders_1.append(0)\n",
    "orders_by_non_purchased_users_A = pd.Series(data = list_orders_1, name = 'orders')\n",
    "\n",
    "list_orders_2 =[]\n",
    "for i in range(0,(visitors[visitors['group']=='B']['visitors'].sum()-len(ordersByUsersB))):\n",
    "    list_orders_2.append(0)\n",
    "orders_by_non_purchased_users_B = pd.Series(data = list_orders_2, name = 'orders')\n",
    "\n",
    "sampleA = pd.concat([ordersByUsersA['orders'], orders_by_non_purchased_users_A], axis=0)\n",
    "sampleB = pd.concat([ordersByUsersB['orders'], orders_by_non_purchased_users_B], axis=0)\n",
    "print('\\nОтносительный показатель группы B по отношению к группе A: {:.3f}'.format(sampleB.mean()/sampleA.mean()-1))\n",
    "alpha = 0.05\n",
    "results = st.mannwhitneyu(sampleA, sampleB)\n",
    "print('P-value: {}'.format(results.pvalue))\n",
    "if results.pvalue < alpha:\n",
    "    print('По неочищенным данным различия в среднем между группами есть!')\n",
    "else:\n",
    "    print('По неочищенным данным различий в среднем количестве заказов между группами нет')"
   ]
  },
  {
   "cell_type": "markdown",
   "id": "d658789d",
   "metadata": {},
   "source": [
    "### 11.\tПосчет статистической значимости различий в среднем чеке заказа между группами по «сырым» данным."
   ]
  },
  {
   "cell_type": "markdown",
   "id": "e15792e4",
   "metadata": {},
   "source": [
    "Проведем аналогичные действия со средним чеком"
   ]
  },
  {
   "cell_type": "markdown",
   "id": "1b44fa12",
   "metadata": {},
   "source": [
    "**Сформулируем гипотезы.**\n",
    "\n",
    "- Н0: различий в среднем чеке между группами нет. \n",
    "- Н1: различия в среднем чеке между группами есть."
   ]
  },
  {
   "cell_type": "code",
   "execution_count": 52,
   "id": "bcaaacbe",
   "metadata": {},
   "outputs": [
    {
     "name": "stdout",
     "output_type": "stream",
     "text": [
      "Относительное изменение среднего чека в группе B по отношению группы A: 0.259\n",
      "P-value: 0.7292909855432458\n",
      "По неочищенным данным РАЗЛИЧИЙ в средних чеках в группах A и B нет!\n"
     ]
    }
   ],
   "source": [
    "print('Относительное изменение среднего чека в группе B по отношению группы A: {:.3f}'.format(\n",
    "orders[orders['group']=='B']['revenue'].mean()/orders[orders['group']=='A']['revenue'].mean()-1))\n",
    "results = st.mannwhitneyu(orders[orders['group']=='A']['revenue'], orders[orders['group']=='B']['revenue'])\n",
    "print('P-value: {}'.format(results.pvalue))\n",
    "if results.pvalue < alpha:\n",
    "    print('По неочищенным данным РАЗНИЦА в средних чеках в группах A и B разница является статитстически значимой!')\n",
    "else:\n",
    "    print('По неочищенным данным РАЗЛИЧИЙ в средних чеках в группах A и B нет!')"
   ]
  },
  {
   "cell_type": "markdown",
   "id": "4eb58e70",
   "metadata": {},
   "source": [
    "### 12.\tПосчет статистической значимости различий в среднем количестве заказов на посетителя между группами по «очищенным» данным"
   ]
  },
  {
   "cell_type": "markdown",
   "id": "f30e9b29",
   "metadata": {},
   "source": [
    "Ранее мы уже определили предельные значения для стоимости и количества заказов. Сейчас необходимо создать список аномальных пользователей."
   ]
  },
  {
   "cell_type": "code",
   "execution_count": 53,
   "id": "0452df5a",
   "metadata": {},
   "outputs": [],
   "source": [
    "limit_orders = (np.percentile(orders_per_user['orders'], 95))\n",
    "limit_revenue = (np.percentile(orders['revenue'], 95))"
   ]
  },
  {
   "cell_type": "code",
   "execution_count": 54,
   "id": "bcecee46",
   "metadata": {},
   "outputs": [
    {
     "name": "stdout",
     "output_type": "stream",
     "text": [
      "Кол-во аномальных пользователей: 74\n"
     ]
    }
   ],
   "source": [
    "usersWithManyOrders = pd.concat([ordersByUsersA[ordersByUsersA['orders']>limit_orders]['visitorid'], \n",
    "                                ordersByUsersB[ordersByUsersB['orders']>limit_orders]['visitorid']], axis = 0)\n",
    "usersWithExpensiveOrders = orders[orders['revenue']>limit_revenue]['visitorid']\n",
    "abnormalUsers = pd.concat([usersWithManyOrders, usersWithExpensiveOrders], axis = 0).drop_duplicates().sort_values()\n",
    "print('Кол-во аномальных пользователей: {}'.format(len(abnormalUsers)))"
   ]
  },
  {
   "cell_type": "markdown",
   "id": "f599c505",
   "metadata": {},
   "source": [
    "Рассчитаем относительные потери"
   ]
  },
  {
   "cell_type": "code",
   "execution_count": 55,
   "id": "95608af8",
   "metadata": {},
   "outputs": [
    {
     "name": "stdout",
     "output_type": "stream",
     "text": [
      "Относительные потери:  0.07\n"
     ]
    }
   ],
   "source": [
    "print ('Относительные потери: ', round((len(abnormalUsers)/ orders.visitorid.nunique()),2))"
   ]
  },
  {
   "cell_type": "markdown",
   "id": "4eb481c9",
   "metadata": {},
   "source": [
    "Теперь очистим данные и просчитаем статистическую значимость"
   ]
  },
  {
   "cell_type": "markdown",
   "id": "91e57538",
   "metadata": {},
   "source": [
    "**Сформулируем гипотезы.**\n",
    "\n",
    "- Н0: различий в среднем количестве заказов на посетителя между группами нет. \n",
    "- Н1: различия в среднем количестве заказов на посетителя между группами есть."
   ]
  },
  {
   "cell_type": "code",
   "execution_count": 56,
   "id": "48ecd527",
   "metadata": {},
   "outputs": [
    {
     "name": "stdout",
     "output_type": "stream",
     "text": [
      "\n",
      "Относительный показатель группы B по отношению к группе A после очистки данных: 0.173\n",
      "P-value: 0.013042592743036745\n",
      "По очищенным данным статистически значимые различия есть!\n"
     ]
    }
   ],
   "source": [
    "sampleAFiltered = pd.concat([\n",
    "    ordersByUsersA[np.logical_not(ordersByUsersA['visitorid'].isin(abnormalUsers))]['orders'],\n",
    "    orders_by_non_purchased_users_A\n",
    "], axis = 0)\n",
    "sampleBFiltered = pd.concat([\n",
    "    ordersByUsersB[np.logical_not(ordersByUsersB['visitorid'].isin(abnormalUsers))]['orders'],\n",
    "    orders_by_non_purchased_users_B\n",
    "], axis = 0)\n",
    "print('\\nОтносительный показатель группы B по отношению к группе A после очистки данных: {:.3f}'.format(sampleBFiltered.mean()/sampleAFiltered.mean()-1))\n",
    "results = st.mannwhitneyu(sampleAFiltered, sampleBFiltered)\n",
    "print('P-value: {}'.format(results.pvalue))\n",
    "if results.pvalue < alpha:\n",
    "    print('По очищенным данным статистически значимые различия есть!')\n",
    "else:\n",
    "    print('По очищенным данным статистически значимых различий в конверсии между группами нет!')"
   ]
  },
  {
   "cell_type": "markdown",
   "id": "746f8461",
   "metadata": {},
   "source": [
    "### 13.\tПосчет статистической значимости различий в среднем чеке заказа между группами по «очищенным» данным."
   ]
  },
  {
   "cell_type": "markdown",
   "id": "49e1a42b",
   "metadata": {},
   "source": [
    "**Сформулируем гипотезы.**\n",
    "\n",
    "- Н0: различий в среднем чеке между группами нет. \n",
    "- Н1: различия в среднем чеке между группами есть."
   ]
  },
  {
   "cell_type": "code",
   "execution_count": 57,
   "id": "b013cdad",
   "metadata": {},
   "outputs": [
    {
     "name": "stdout",
     "output_type": "stream",
     "text": [
      "Относительное изменение среднего чека в группе B по отношению группы A после очистки данных: -0.020\n",
      "P-value: 0.738481751314565\n",
      "По очищенным данным РАЗЛИЧИЙ в средних чеках в группах A и B нет!\n"
     ]
    }
   ],
   "source": [
    "print('Относительное изменение среднего чека в группе B по отношению группы A после очистки данных: {:.3f}'.format(\n",
    "orders[np.logical_and(orders['group']=='B', np.logical_not(orders['visitorid'].isin(abnormalUsers)))]['revenue'].mean()\\\n",
    "/orders[np.logical_and(orders['group']=='A', np.logical_not(orders['visitorid'].isin(abnormalUsers)))]['revenue'].mean()-1))\n",
    "       \n",
    "       \n",
    "results = st.mannwhitneyu(orders[np.logical_and(orders['group']=='A', np.logical_not(orders['visitorid'].isin(abnormalUsers)))]['revenue'],\n",
    "                             orders[np.logical_and(orders['group']=='B', np.logical_not(orders['visitorid'].isin(abnormalUsers)))]['revenue'])\n",
    "print('P-value: {}'.format(results.pvalue))\n",
    "if results.pvalue < alpha:\n",
    "    print('По очищенным данным РАЗНИЦА в средних чеках в группах A и B разница является статитстически значимой!')\n",
    "else:\n",
    "    print('По очищенным данным РАЗЛИЧИЙ в средних чеках в группах A и B нет!')"
   ]
  },
  {
   "cell_type": "markdown",
   "id": "e3c9ea7a",
   "metadata": {},
   "source": [
    "### 14. Принятие решения по результатам теста"
   ]
  },
  {
   "cell_type": "markdown",
   "id": "f26aa32e",
   "metadata": {},
   "source": [
    "Условия проекта предлагают нам три варианта решения:\n",
    "<ul>\n",
    "<li>1. Остановить тест, зафиксировать победу одной из групп</li>\n",
    "<li>2. Остановить тест, зафиксировать отсутствие различий между группами.</li>\n",
    "<li>3. Продолжить тест.</li>\n",
    "</ul>"
   ]
  },
  {
   "cell_type": "markdown",
   "id": "2eacef9e",
   "metadata": {},
   "source": [
    "**Вывод**"
   ]
  },
  {
   "cell_type": "markdown",
   "id": "c3e95839",
   "metadata": {},
   "source": [
    "На протяжении всего исследования мы получали результаты, отражающие приемущества группы В. Кумулятивные метрики по выручке, среднему чеку почти все время лидировали в группе B. После очистки разница между средними чеками стала минимальна, но это не даёт нам повода сомневаться в проведении теста и его результатах. И по \"сырым\" и по \"очищенным\" данным различия в показателях по среднему к-ву заказов на покупателя групп A и B есть. Относительный выигрыш группы \"B\" над \"A\" равен 17,3% по \"очищенным\" и 13.8% по \"сырым\" данным.\n",
    "Данная разница показателей между группами и до и после очистки данных является статистически значимой, что пользволяет нам сделать вывод о том, что мы можем остановить наш A/B тест и зафиксировать победу группы B. "
   ]
  }
 ],
 "metadata": {
  "ExecuteTimeLog": [
   {
    "duration": 1221,
    "start_time": "2023-03-13T11:53:14.686Z"
   },
   {
    "duration": 267,
    "start_time": "2023-03-13T11:53:15.910Z"
   },
   {
    "duration": 0,
    "start_time": "2023-03-13T11:53:16.183Z"
   },
   {
    "duration": 0,
    "start_time": "2023-03-13T11:53:16.184Z"
   },
   {
    "duration": 0,
    "start_time": "2023-03-13T11:53:16.186Z"
   },
   {
    "duration": 0,
    "start_time": "2023-03-13T11:53:16.187Z"
   },
   {
    "duration": 0,
    "start_time": "2023-03-13T11:53:16.189Z"
   },
   {
    "duration": 0,
    "start_time": "2023-03-13T11:53:16.191Z"
   },
   {
    "duration": 0,
    "start_time": "2023-03-13T11:53:16.192Z"
   },
   {
    "duration": 0,
    "start_time": "2023-03-13T11:53:16.194Z"
   },
   {
    "duration": 0,
    "start_time": "2023-03-13T11:53:16.195Z"
   },
   {
    "duration": 0,
    "start_time": "2023-03-13T11:53:16.197Z"
   },
   {
    "duration": 0,
    "start_time": "2023-03-13T11:53:16.199Z"
   },
   {
    "duration": 0,
    "start_time": "2023-03-13T11:53:16.200Z"
   },
   {
    "duration": 0,
    "start_time": "2023-03-13T11:53:16.202Z"
   },
   {
    "duration": 0,
    "start_time": "2023-03-13T11:53:16.204Z"
   },
   {
    "duration": 0,
    "start_time": "2023-03-13T11:53:16.205Z"
   },
   {
    "duration": 0,
    "start_time": "2023-03-13T11:53:16.207Z"
   },
   {
    "duration": 0,
    "start_time": "2023-03-13T11:53:16.209Z"
   },
   {
    "duration": 0,
    "start_time": "2023-03-13T11:53:16.211Z"
   },
   {
    "duration": 0,
    "start_time": "2023-03-13T11:53:16.212Z"
   },
   {
    "duration": 0,
    "start_time": "2023-03-13T11:53:16.213Z"
   },
   {
    "duration": 0,
    "start_time": "2023-03-13T11:53:16.215Z"
   },
   {
    "duration": 0,
    "start_time": "2023-03-13T11:53:16.216Z"
   },
   {
    "duration": 0,
    "start_time": "2023-03-13T11:53:16.217Z"
   },
   {
    "duration": 0,
    "start_time": "2023-03-13T11:53:16.278Z"
   },
   {
    "duration": 0,
    "start_time": "2023-03-13T11:53:16.279Z"
   },
   {
    "duration": 0,
    "start_time": "2023-03-13T11:53:16.281Z"
   },
   {
    "duration": 0,
    "start_time": "2023-03-13T11:53:16.283Z"
   },
   {
    "duration": 0,
    "start_time": "2023-03-13T11:53:16.284Z"
   },
   {
    "duration": 0,
    "start_time": "2023-03-13T11:53:16.286Z"
   },
   {
    "duration": 0,
    "start_time": "2023-03-13T11:53:16.288Z"
   },
   {
    "duration": 0,
    "start_time": "2023-03-13T11:53:16.289Z"
   },
   {
    "duration": 0,
    "start_time": "2023-03-13T11:53:16.290Z"
   },
   {
    "duration": 0,
    "start_time": "2023-03-13T11:53:16.292Z"
   },
   {
    "duration": 0,
    "start_time": "2023-03-13T11:53:16.293Z"
   },
   {
    "duration": 0,
    "start_time": "2023-03-13T11:53:16.294Z"
   },
   {
    "duration": 0,
    "start_time": "2023-03-13T11:53:16.295Z"
   },
   {
    "duration": 0,
    "start_time": "2023-03-13T11:53:16.297Z"
   },
   {
    "duration": 0,
    "start_time": "2023-03-13T11:53:16.298Z"
   },
   {
    "duration": 0,
    "start_time": "2023-03-13T11:53:16.300Z"
   },
   {
    "duration": 0,
    "start_time": "2023-03-13T11:53:16.301Z"
   },
   {
    "duration": 0,
    "start_time": "2023-03-13T11:53:16.302Z"
   },
   {
    "duration": 0,
    "start_time": "2023-03-13T11:53:16.303Z"
   },
   {
    "duration": 0,
    "start_time": "2023-03-13T11:53:16.304Z"
   },
   {
    "duration": 0,
    "start_time": "2023-03-13T11:53:16.305Z"
   },
   {
    "duration": 0,
    "start_time": "2023-03-13T11:53:16.306Z"
   },
   {
    "duration": 0,
    "start_time": "2023-03-13T11:53:16.307Z"
   },
   {
    "duration": 0,
    "start_time": "2023-03-13T11:53:16.309Z"
   },
   {
    "duration": 0,
    "start_time": "2023-03-13T11:53:16.310Z"
   },
   {
    "duration": 0,
    "start_time": "2023-03-13T11:53:16.311Z"
   },
   {
    "duration": 0,
    "start_time": "2023-03-13T11:53:16.313Z"
   },
   {
    "duration": 1,
    "start_time": "2023-03-13T11:53:16.378Z"
   },
   {
    "duration": 0,
    "start_time": "2023-03-13T11:53:16.381Z"
   },
   {
    "duration": 0,
    "start_time": "2023-03-13T11:53:16.382Z"
   },
   {
    "duration": 0,
    "start_time": "2023-03-13T11:53:16.384Z"
   },
   {
    "duration": 212,
    "start_time": "2023-03-13T11:59:47.639Z"
   },
   {
    "duration": 249,
    "start_time": "2023-03-13T12:00:09.182Z"
   },
   {
    "duration": 1283,
    "start_time": "2023-03-13T12:00:14.659Z"
   },
   {
    "duration": 146,
    "start_time": "2023-03-13T12:00:15.944Z"
   },
   {
    "duration": 13,
    "start_time": "2023-03-13T12:00:16.092Z"
   },
   {
    "duration": 19,
    "start_time": "2023-03-13T12:00:16.106Z"
   },
   {
    "duration": 25,
    "start_time": "2023-03-13T12:00:16.127Z"
   },
   {
    "duration": 14,
    "start_time": "2023-03-13T12:00:16.154Z"
   },
   {
    "duration": 33,
    "start_time": "2023-03-13T12:00:16.170Z"
   },
   {
    "duration": 15,
    "start_time": "2023-03-13T12:00:16.205Z"
   },
   {
    "duration": 23,
    "start_time": "2023-03-13T12:00:16.222Z"
   },
   {
    "duration": 15,
    "start_time": "2023-03-13T12:00:16.247Z"
   },
   {
    "duration": 11,
    "start_time": "2023-03-13T12:00:16.264Z"
   },
   {
    "duration": 23,
    "start_time": "2023-03-13T12:00:16.277Z"
   },
   {
    "duration": 20,
    "start_time": "2023-03-13T12:00:16.302Z"
   },
   {
    "duration": 18,
    "start_time": "2023-03-13T12:00:16.327Z"
   },
   {
    "duration": 18,
    "start_time": "2023-03-13T12:00:16.347Z"
   },
   {
    "duration": 37,
    "start_time": "2023-03-13T12:00:16.367Z"
   },
   {
    "duration": 52,
    "start_time": "2023-03-13T12:00:16.406Z"
   },
   {
    "duration": 19,
    "start_time": "2023-03-13T12:00:16.459Z"
   },
   {
    "duration": 41,
    "start_time": "2023-03-13T12:00:16.480Z"
   },
   {
    "duration": 24,
    "start_time": "2023-03-13T12:00:16.523Z"
   },
   {
    "duration": 18,
    "start_time": "2023-03-13T12:00:16.549Z"
   },
   {
    "duration": 11,
    "start_time": "2023-03-13T12:00:16.569Z"
   },
   {
    "duration": 21,
    "start_time": "2023-03-13T12:00:16.582Z"
   },
   {
    "duration": 349,
    "start_time": "2023-03-13T12:00:16.605Z"
   },
   {
    "duration": 5,
    "start_time": "2023-03-13T12:00:16.956Z"
   },
   {
    "duration": 295,
    "start_time": "2023-03-13T12:00:16.977Z"
   },
   {
    "duration": 16,
    "start_time": "2023-03-13T12:00:17.277Z"
   },
   {
    "duration": 36,
    "start_time": "2023-03-13T12:00:17.295Z"
   },
   {
    "duration": 31,
    "start_time": "2023-03-13T12:00:17.332Z"
   },
   {
    "duration": 228,
    "start_time": "2023-03-13T12:00:17.365Z"
   },
   {
    "duration": 27,
    "start_time": "2023-03-13T12:00:17.596Z"
   },
   {
    "duration": 17,
    "start_time": "2023-03-13T12:00:17.625Z"
   },
   {
    "duration": 30,
    "start_time": "2023-03-13T12:00:17.644Z"
   },
   {
    "duration": 29,
    "start_time": "2023-03-13T12:00:17.676Z"
   },
   {
    "duration": 36,
    "start_time": "2023-03-13T12:00:17.708Z"
   },
   {
    "duration": 313,
    "start_time": "2023-03-13T12:00:17.746Z"
   },
   {
    "duration": 227,
    "start_time": "2023-03-13T12:00:18.060Z"
   },
   {
    "duration": 324,
    "start_time": "2023-03-13T12:00:18.288Z"
   },
   {
    "duration": 271,
    "start_time": "2023-03-13T12:00:18.614Z"
   },
   {
    "duration": 401,
    "start_time": "2023-03-13T12:00:18.887Z"
   },
   {
    "duration": 9,
    "start_time": "2023-03-13T12:00:19.292Z"
   },
   {
    "duration": 13,
    "start_time": "2023-03-13T12:00:19.303Z"
   },
   {
    "duration": 159,
    "start_time": "2023-03-13T12:00:19.318Z"
   },
   {
    "duration": 6,
    "start_time": "2023-03-13T12:00:19.480Z"
   },
   {
    "duration": 177,
    "start_time": "2023-03-13T12:00:19.487Z"
   },
   {
    "duration": 146,
    "start_time": "2023-03-13T12:00:19.666Z"
   },
   {
    "duration": 6,
    "start_time": "2023-03-13T12:00:19.814Z"
   },
   {
    "duration": 7,
    "start_time": "2023-03-13T12:00:19.822Z"
   },
   {
    "duration": 22,
    "start_time": "2023-03-13T12:00:19.830Z"
   },
   {
    "duration": 45,
    "start_time": "2023-03-13T12:00:19.878Z"
   },
   {
    "duration": 13,
    "start_time": "2023-03-13T12:00:19.924Z"
   },
   {
    "duration": 6,
    "start_time": "2023-03-13T12:00:19.939Z"
   },
   {
    "duration": 38,
    "start_time": "2023-03-13T12:00:19.947Z"
   },
   {
    "duration": 13,
    "start_time": "2023-03-13T12:00:19.987Z"
   },
   {
    "duration": 33,
    "start_time": "2023-03-13T12:00:20.002Z"
   },
   {
    "duration": 16,
    "start_time": "2023-03-13T12:00:20.037Z"
   },
   {
    "duration": 1243,
    "start_time": "2023-03-14T06:30:33.100Z"
   },
   {
    "duration": 344,
    "start_time": "2023-03-14T06:30:34.345Z"
   },
   {
    "duration": 12,
    "start_time": "2023-03-14T06:30:34.691Z"
   },
   {
    "duration": 11,
    "start_time": "2023-03-14T06:30:34.704Z"
   },
   {
    "duration": 12,
    "start_time": "2023-03-14T06:30:34.717Z"
   },
   {
    "duration": 8,
    "start_time": "2023-03-14T06:30:34.730Z"
   },
   {
    "duration": 7,
    "start_time": "2023-03-14T06:30:34.739Z"
   },
   {
    "duration": 3,
    "start_time": "2023-03-14T06:30:34.747Z"
   },
   {
    "duration": 15,
    "start_time": "2023-03-14T06:30:34.751Z"
   },
   {
    "duration": 11,
    "start_time": "2023-03-14T06:30:34.767Z"
   },
   {
    "duration": 6,
    "start_time": "2023-03-14T06:30:34.779Z"
   },
   {
    "duration": 9,
    "start_time": "2023-03-14T06:30:34.786Z"
   },
   {
    "duration": 6,
    "start_time": "2023-03-14T06:30:34.796Z"
   },
   {
    "duration": 3,
    "start_time": "2023-03-14T06:30:34.805Z"
   },
   {
    "duration": 4,
    "start_time": "2023-03-14T06:30:34.810Z"
   },
   {
    "duration": 7,
    "start_time": "2023-03-14T06:30:34.816Z"
   },
   {
    "duration": 33,
    "start_time": "2023-03-14T06:30:34.824Z"
   },
   {
    "duration": 4,
    "start_time": "2023-03-14T06:30:34.858Z"
   },
   {
    "duration": 13,
    "start_time": "2023-03-14T06:30:34.863Z"
   },
   {
    "duration": 4,
    "start_time": "2023-03-14T06:30:34.877Z"
   },
   {
    "duration": 4,
    "start_time": "2023-03-14T06:30:34.882Z"
   },
   {
    "duration": 6,
    "start_time": "2023-03-14T06:30:34.887Z"
   },
   {
    "duration": 7,
    "start_time": "2023-03-14T06:30:34.894Z"
   },
   {
    "duration": 273,
    "start_time": "2023-03-14T06:30:34.903Z"
   },
   {
    "duration": 4,
    "start_time": "2023-03-14T06:30:35.177Z"
   },
   {
    "duration": 262,
    "start_time": "2023-03-14T06:30:35.182Z"
   },
   {
    "duration": 16,
    "start_time": "2023-03-14T06:30:35.446Z"
   },
   {
    "duration": 11,
    "start_time": "2023-03-14T06:30:35.463Z"
   },
   {
    "duration": 22,
    "start_time": "2023-03-14T06:30:35.475Z"
   },
   {
    "duration": 175,
    "start_time": "2023-03-14T06:30:35.498Z"
   },
   {
    "duration": 17,
    "start_time": "2023-03-14T06:30:35.675Z"
   },
   {
    "duration": 13,
    "start_time": "2023-03-14T06:30:35.693Z"
   },
   {
    "duration": 6,
    "start_time": "2023-03-14T06:30:35.707Z"
   },
   {
    "duration": 9,
    "start_time": "2023-03-14T06:30:35.715Z"
   },
   {
    "duration": 11,
    "start_time": "2023-03-14T06:30:35.725Z"
   },
   {
    "duration": 254,
    "start_time": "2023-03-14T06:30:35.737Z"
   },
   {
    "duration": 175,
    "start_time": "2023-03-14T06:30:35.992Z"
   },
   {
    "duration": 315,
    "start_time": "2023-03-14T06:30:36.169Z"
   },
   {
    "duration": 214,
    "start_time": "2023-03-14T06:30:36.485Z"
   },
   {
    "duration": 356,
    "start_time": "2023-03-14T06:30:36.701Z"
   },
   {
    "duration": 5,
    "start_time": "2023-03-14T06:30:37.061Z"
   },
   {
    "duration": 6,
    "start_time": "2023-03-14T06:30:37.067Z"
   },
   {
    "duration": 123,
    "start_time": "2023-03-14T06:30:37.074Z"
   },
   {
    "duration": 4,
    "start_time": "2023-03-14T06:30:37.198Z"
   },
   {
    "duration": 137,
    "start_time": "2023-03-14T06:30:37.204Z"
   },
   {
    "duration": 128,
    "start_time": "2023-03-14T06:30:37.342Z"
   },
   {
    "duration": 5,
    "start_time": "2023-03-14T06:30:37.471Z"
   },
   {
    "duration": 7,
    "start_time": "2023-03-14T06:30:37.478Z"
   },
   {
    "duration": 14,
    "start_time": "2023-03-14T06:30:37.486Z"
   },
   {
    "duration": 53,
    "start_time": "2023-03-14T06:30:37.501Z"
   },
   {
    "duration": 9,
    "start_time": "2023-03-14T06:30:37.556Z"
   },
   {
    "duration": 2,
    "start_time": "2023-03-14T06:30:37.566Z"
   },
   {
    "duration": 11,
    "start_time": "2023-03-14T06:30:37.569Z"
   },
   {
    "duration": 9,
    "start_time": "2023-03-14T06:30:37.581Z"
   },
   {
    "duration": 24,
    "start_time": "2023-03-14T06:30:37.591Z"
   },
   {
    "duration": 16,
    "start_time": "2023-03-14T06:30:37.617Z"
   },
   {
    "duration": 56,
    "start_time": "2023-03-14T08:35:45.869Z"
   },
   {
    "duration": 1592,
    "start_time": "2023-03-14T08:35:53.331Z"
   },
   {
    "duration": 319,
    "start_time": "2023-03-14T08:35:54.925Z"
   },
   {
    "duration": 13,
    "start_time": "2023-03-14T08:35:55.247Z"
   },
   {
    "duration": 14,
    "start_time": "2023-03-14T08:35:55.262Z"
   },
   {
    "duration": 15,
    "start_time": "2023-03-14T08:35:55.278Z"
   },
   {
    "duration": 11,
    "start_time": "2023-03-14T08:35:55.295Z"
   },
   {
    "duration": 11,
    "start_time": "2023-03-14T08:35:55.308Z"
   },
   {
    "duration": 10,
    "start_time": "2023-03-14T08:35:55.321Z"
   },
   {
    "duration": 32,
    "start_time": "2023-03-14T08:35:55.333Z"
   },
   {
    "duration": 12,
    "start_time": "2023-03-14T08:35:55.368Z"
   },
   {
    "duration": 9,
    "start_time": "2023-03-14T08:35:55.382Z"
   },
   {
    "duration": 16,
    "start_time": "2023-03-14T08:35:55.393Z"
   },
   {
    "duration": 8,
    "start_time": "2023-03-14T08:35:55.411Z"
   },
   {
    "duration": 9,
    "start_time": "2023-03-14T08:35:55.421Z"
   },
   {
    "duration": 31,
    "start_time": "2023-03-14T08:35:55.432Z"
   },
   {
    "duration": 10,
    "start_time": "2023-03-14T08:35:55.466Z"
   },
   {
    "duration": 15,
    "start_time": "2023-03-14T08:35:55.478Z"
   },
   {
    "duration": 7,
    "start_time": "2023-03-14T08:35:55.495Z"
   },
   {
    "duration": 18,
    "start_time": "2023-03-14T08:35:55.504Z"
   },
   {
    "duration": 8,
    "start_time": "2023-03-14T08:35:55.523Z"
   },
   {
    "duration": 33,
    "start_time": "2023-03-14T08:35:55.533Z"
   },
   {
    "duration": 7,
    "start_time": "2023-03-14T08:35:55.568Z"
   },
   {
    "duration": 11,
    "start_time": "2023-03-14T08:35:55.576Z"
   },
   {
    "duration": 365,
    "start_time": "2023-03-14T08:35:55.590Z"
   },
   {
    "duration": 8,
    "start_time": "2023-03-14T08:35:55.958Z"
   },
   {
    "duration": 286,
    "start_time": "2023-03-14T08:35:55.968Z"
   },
   {
    "duration": 19,
    "start_time": "2023-03-14T08:35:56.256Z"
   },
   {
    "duration": 14,
    "start_time": "2023-03-14T08:35:56.279Z"
   },
   {
    "duration": 14,
    "start_time": "2023-03-14T08:35:56.295Z"
   },
   {
    "duration": 242,
    "start_time": "2023-03-14T08:35:56.311Z"
   },
   {
    "duration": 27,
    "start_time": "2023-03-14T08:35:56.556Z"
   },
   {
    "duration": 18,
    "start_time": "2023-03-14T08:35:56.585Z"
   },
   {
    "duration": 11,
    "start_time": "2023-03-14T08:35:56.605Z"
   },
   {
    "duration": 7,
    "start_time": "2023-03-14T08:35:56.618Z"
   },
   {
    "duration": 17,
    "start_time": "2023-03-14T08:35:56.627Z"
   },
   {
    "duration": 334,
    "start_time": "2023-03-14T08:35:56.665Z"
   },
   {
    "duration": 229,
    "start_time": "2023-03-14T08:35:57.001Z"
   },
   {
    "duration": 403,
    "start_time": "2023-03-14T08:35:57.233Z"
   },
   {
    "duration": 252,
    "start_time": "2023-03-14T08:35:57.637Z"
   },
   {
    "duration": 408,
    "start_time": "2023-03-14T08:35:57.891Z"
   },
   {
    "duration": 7,
    "start_time": "2023-03-14T08:35:58.301Z"
   },
   {
    "duration": 9,
    "start_time": "2023-03-14T08:35:58.310Z"
   },
   {
    "duration": 160,
    "start_time": "2023-03-14T08:35:58.321Z"
   },
   {
    "duration": 6,
    "start_time": "2023-03-14T08:35:58.482Z"
   },
   {
    "duration": 177,
    "start_time": "2023-03-14T08:35:58.490Z"
   },
   {
    "duration": 163,
    "start_time": "2023-03-14T08:35:58.669Z"
   },
   {
    "duration": 7,
    "start_time": "2023-03-14T08:35:58.834Z"
   },
   {
    "duration": 23,
    "start_time": "2023-03-14T08:35:58.842Z"
   },
   {
    "duration": 27,
    "start_time": "2023-03-14T08:35:58.867Z"
   },
   {
    "duration": 49,
    "start_time": "2023-03-14T08:35:58.896Z"
   },
   {
    "duration": 28,
    "start_time": "2023-03-14T08:35:58.947Z"
   },
   {
    "duration": 3,
    "start_time": "2023-03-14T08:35:58.977Z"
   },
   {
    "duration": 15,
    "start_time": "2023-03-14T08:35:58.981Z"
   },
   {
    "duration": 8,
    "start_time": "2023-03-14T08:35:58.998Z"
   },
   {
    "duration": 60,
    "start_time": "2023-03-14T08:35:59.008Z"
   },
   {
    "duration": 17,
    "start_time": "2023-03-14T08:35:59.069Z"
   },
   {
    "duration": 5,
    "start_time": "2023-03-14T08:43:16.752Z"
   },
   {
    "duration": 8,
    "start_time": "2023-03-14T08:43:36.895Z"
   },
   {
    "duration": 7,
    "start_time": "2023-03-14T08:43:42.743Z"
   },
   {
    "duration": 6,
    "start_time": "2023-03-14T08:44:01.291Z"
   },
   {
    "duration": 4,
    "start_time": "2023-03-14T08:44:26.956Z"
   },
   {
    "duration": 4,
    "start_time": "2023-03-14T08:44:34.039Z"
   },
   {
    "duration": 30,
    "start_time": "2023-03-14T08:48:30.952Z"
   },
   {
    "duration": 1223,
    "start_time": "2023-03-14T08:51:28.299Z"
   },
   {
    "duration": 158,
    "start_time": "2023-03-14T08:51:29.524Z"
   },
   {
    "duration": 13,
    "start_time": "2023-03-14T08:51:29.685Z"
   },
   {
    "duration": 15,
    "start_time": "2023-03-14T08:51:29.700Z"
   },
   {
    "duration": 16,
    "start_time": "2023-03-14T08:51:29.717Z"
   },
   {
    "duration": 9,
    "start_time": "2023-03-14T08:51:29.735Z"
   },
   {
    "duration": 22,
    "start_time": "2023-03-14T08:51:29.745Z"
   },
   {
    "duration": 5,
    "start_time": "2023-03-14T08:51:29.769Z"
   },
   {
    "duration": 14,
    "start_time": "2023-03-14T08:51:29.776Z"
   },
   {
    "duration": 13,
    "start_time": "2023-03-14T08:51:29.793Z"
   },
   {
    "duration": 10,
    "start_time": "2023-03-14T08:51:29.808Z"
   },
   {
    "duration": 11,
    "start_time": "2023-03-14T08:51:29.820Z"
   },
   {
    "duration": 32,
    "start_time": "2023-03-14T08:51:29.833Z"
   },
   {
    "duration": 23,
    "start_time": "2023-03-14T08:51:29.866Z"
   },
   {
    "duration": 10,
    "start_time": "2023-03-14T08:51:29.891Z"
   },
   {
    "duration": 11,
    "start_time": "2023-03-14T08:51:29.902Z"
   },
   {
    "duration": 12,
    "start_time": "2023-03-14T08:51:29.914Z"
   },
   {
    "duration": 6,
    "start_time": "2023-03-14T08:51:29.928Z"
   },
   {
    "duration": 35,
    "start_time": "2023-03-14T08:51:29.936Z"
   },
   {
    "duration": 23,
    "start_time": "2023-03-14T08:51:29.973Z"
   },
   {
    "duration": 32,
    "start_time": "2023-03-14T08:51:29.998Z"
   },
   {
    "duration": 15,
    "start_time": "2023-03-14T08:51:30.032Z"
   },
   {
    "duration": 11,
    "start_time": "2023-03-14T08:51:30.049Z"
   },
   {
    "duration": 315,
    "start_time": "2023-03-14T08:51:30.062Z"
   },
   {
    "duration": 5,
    "start_time": "2023-03-14T08:51:30.378Z"
   },
   {
    "duration": 313,
    "start_time": "2023-03-14T08:51:30.385Z"
   },
   {
    "duration": 12,
    "start_time": "2023-03-14T08:51:30.700Z"
   },
   {
    "duration": 47,
    "start_time": "2023-03-14T08:51:30.716Z"
   },
   {
    "duration": 50,
    "start_time": "2023-03-14T08:51:30.764Z"
   },
   {
    "duration": 240,
    "start_time": "2023-03-14T08:51:30.816Z"
   },
   {
    "duration": 21,
    "start_time": "2023-03-14T08:51:31.058Z"
   },
   {
    "duration": 58,
    "start_time": "2023-03-14T08:51:31.081Z"
   },
   {
    "duration": 37,
    "start_time": "2023-03-14T08:51:31.141Z"
   },
   {
    "duration": 42,
    "start_time": "2023-03-14T08:51:31.179Z"
   },
   {
    "duration": 47,
    "start_time": "2023-03-14T08:51:31.224Z"
   },
   {
    "duration": 350,
    "start_time": "2023-03-14T08:51:31.273Z"
   },
   {
    "duration": 239,
    "start_time": "2023-03-14T08:51:31.625Z"
   },
   {
    "duration": 333,
    "start_time": "2023-03-14T08:51:31.866Z"
   },
   {
    "duration": 269,
    "start_time": "2023-03-14T08:51:32.201Z"
   },
   {
    "duration": 428,
    "start_time": "2023-03-14T08:51:32.472Z"
   },
   {
    "duration": 7,
    "start_time": "2023-03-14T08:51:32.902Z"
   },
   {
    "duration": 28,
    "start_time": "2023-03-14T08:51:32.911Z"
   },
   {
    "duration": 154,
    "start_time": "2023-03-14T08:51:32.942Z"
   },
   {
    "duration": 7,
    "start_time": "2023-03-14T08:51:33.097Z"
   },
   {
    "duration": 183,
    "start_time": "2023-03-14T08:51:33.106Z"
   },
   {
    "duration": 163,
    "start_time": "2023-03-14T08:51:33.292Z"
   },
   {
    "duration": 12,
    "start_time": "2023-03-14T08:51:33.457Z"
   },
   {
    "duration": 12,
    "start_time": "2023-03-14T08:51:33.471Z"
   },
   {
    "duration": 25,
    "start_time": "2023-03-14T08:51:33.485Z"
   },
   {
    "duration": 53,
    "start_time": "2023-03-14T08:51:33.512Z"
   },
   {
    "duration": 13,
    "start_time": "2023-03-14T08:51:33.567Z"
   },
   {
    "duration": 21,
    "start_time": "2023-03-14T08:51:33.582Z"
   },
   {
    "duration": 24,
    "start_time": "2023-03-14T08:51:33.605Z"
   },
   {
    "duration": 24,
    "start_time": "2023-03-14T08:51:33.631Z"
   },
   {
    "duration": 7,
    "start_time": "2023-03-14T08:51:33.657Z"
   },
   {
    "duration": 42,
    "start_time": "2023-03-14T08:51:33.665Z"
   },
   {
    "duration": 15,
    "start_time": "2023-03-14T08:51:33.709Z"
   },
   {
    "duration": 32,
    "start_time": "2023-03-14T08:58:10.374Z"
   },
   {
    "duration": 49,
    "start_time": "2023-03-14T08:58:28.122Z"
   },
   {
    "duration": 1402,
    "start_time": "2023-03-14T09:07:45.949Z"
   },
   {
    "duration": 147,
    "start_time": "2023-03-14T09:07:47.353Z"
   },
   {
    "duration": 15,
    "start_time": "2023-03-14T09:07:47.503Z"
   },
   {
    "duration": 28,
    "start_time": "2023-03-14T09:07:47.520Z"
   },
   {
    "duration": 23,
    "start_time": "2023-03-14T09:07:47.551Z"
   },
   {
    "duration": 16,
    "start_time": "2023-03-14T09:07:47.576Z"
   },
   {
    "duration": 12,
    "start_time": "2023-03-14T09:07:47.594Z"
   },
   {
    "duration": 10,
    "start_time": "2023-03-14T09:07:47.608Z"
   },
   {
    "duration": 15,
    "start_time": "2023-03-14T09:07:47.620Z"
   },
   {
    "duration": 27,
    "start_time": "2023-03-14T09:07:47.637Z"
   },
   {
    "duration": 9,
    "start_time": "2023-03-14T09:07:47.667Z"
   },
   {
    "duration": 10,
    "start_time": "2023-03-14T09:07:47.678Z"
   },
   {
    "duration": 9,
    "start_time": "2023-03-14T09:07:47.690Z"
   },
   {
    "duration": 6,
    "start_time": "2023-03-14T09:07:47.702Z"
   },
   {
    "duration": 8,
    "start_time": "2023-03-14T09:07:47.710Z"
   },
   {
    "duration": 11,
    "start_time": "2023-03-14T09:07:47.720Z"
   },
   {
    "duration": 35,
    "start_time": "2023-03-14T09:07:47.734Z"
   },
   {
    "duration": 6,
    "start_time": "2023-03-14T09:07:47.771Z"
   },
   {
    "duration": 23,
    "start_time": "2023-03-14T09:07:47.780Z"
   },
   {
    "duration": 5,
    "start_time": "2023-03-14T09:07:47.805Z"
   },
   {
    "duration": 14,
    "start_time": "2023-03-14T09:07:47.812Z"
   },
   {
    "duration": 14,
    "start_time": "2023-03-14T09:07:47.828Z"
   },
   {
    "duration": 24,
    "start_time": "2023-03-14T09:07:47.844Z"
   },
   {
    "duration": 312,
    "start_time": "2023-03-14T09:07:47.870Z"
   },
   {
    "duration": 5,
    "start_time": "2023-03-14T09:07:48.184Z"
   },
   {
    "duration": 289,
    "start_time": "2023-03-14T09:07:48.191Z"
   },
   {
    "duration": 13,
    "start_time": "2023-03-14T09:07:48.482Z"
   },
   {
    "duration": 16,
    "start_time": "2023-03-14T09:07:48.497Z"
   },
   {
    "duration": 15,
    "start_time": "2023-03-14T09:07:48.516Z"
   },
   {
    "duration": 238,
    "start_time": "2023-03-14T09:07:48.533Z"
   },
   {
    "duration": 21,
    "start_time": "2023-03-14T09:07:48.773Z"
   },
   {
    "duration": 19,
    "start_time": "2023-03-14T09:07:48.796Z"
   },
   {
    "duration": 12,
    "start_time": "2023-03-14T09:07:48.817Z"
   },
   {
    "duration": 12,
    "start_time": "2023-03-14T09:07:48.830Z"
   },
   {
    "duration": 13,
    "start_time": "2023-03-14T09:07:48.864Z"
   },
   {
    "duration": 317,
    "start_time": "2023-03-14T09:07:48.879Z"
   },
   {
    "duration": 237,
    "start_time": "2023-03-14T09:07:49.197Z"
   },
   {
    "duration": 347,
    "start_time": "2023-03-14T09:07:49.436Z"
   },
   {
    "duration": 275,
    "start_time": "2023-03-14T09:07:49.785Z"
   },
   {
    "duration": 415,
    "start_time": "2023-03-14T09:07:50.062Z"
   },
   {
    "duration": 7,
    "start_time": "2023-03-14T09:07:50.482Z"
   },
   {
    "duration": 15,
    "start_time": "2023-03-14T09:07:50.491Z"
   },
   {
    "duration": 160,
    "start_time": "2023-03-14T09:07:50.508Z"
   },
   {
    "duration": 7,
    "start_time": "2023-03-14T09:07:50.670Z"
   },
   {
    "duration": 177,
    "start_time": "2023-03-14T09:07:50.679Z"
   },
   {
    "duration": 163,
    "start_time": "2023-03-14T09:07:50.858Z"
   },
   {
    "duration": 6,
    "start_time": "2023-03-14T09:07:51.023Z"
   },
   {
    "duration": 9,
    "start_time": "2023-03-14T09:07:51.031Z"
   },
   {
    "duration": 35,
    "start_time": "2023-03-14T09:07:51.042Z"
   },
   {
    "duration": 60,
    "start_time": "2023-03-14T09:07:51.079Z"
   },
   {
    "duration": 12,
    "start_time": "2023-03-14T09:07:51.141Z"
   },
   {
    "duration": 3,
    "start_time": "2023-03-14T09:07:51.165Z"
   },
   {
    "duration": 13,
    "start_time": "2023-03-14T09:07:51.169Z"
   },
   {
    "duration": 32,
    "start_time": "2023-03-14T09:07:51.184Z"
   },
   {
    "duration": 25,
    "start_time": "2023-03-14T09:07:51.218Z"
   },
   {
    "duration": 34,
    "start_time": "2023-03-14T09:07:51.246Z"
   },
   {
    "duration": 17,
    "start_time": "2023-03-14T09:07:51.282Z"
   },
   {
    "duration": 1333,
    "start_time": "2023-03-14T09:08:26.491Z"
   },
   {
    "duration": 142,
    "start_time": "2023-03-14T09:08:27.826Z"
   },
   {
    "duration": 16,
    "start_time": "2023-03-14T09:08:27.972Z"
   },
   {
    "duration": 26,
    "start_time": "2023-03-14T09:08:27.989Z"
   },
   {
    "duration": 18,
    "start_time": "2023-03-14T09:08:28.018Z"
   },
   {
    "duration": 13,
    "start_time": "2023-03-14T09:08:28.037Z"
   },
   {
    "duration": 6,
    "start_time": "2023-03-14T09:08:28.064Z"
   },
   {
    "duration": 8,
    "start_time": "2023-03-14T09:08:28.072Z"
   },
   {
    "duration": 21,
    "start_time": "2023-03-14T09:08:28.082Z"
   },
   {
    "duration": 15,
    "start_time": "2023-03-14T09:08:28.105Z"
   },
   {
    "duration": 10,
    "start_time": "2023-03-14T09:08:28.122Z"
   },
   {
    "duration": 32,
    "start_time": "2023-03-14T09:08:28.134Z"
   },
   {
    "duration": 8,
    "start_time": "2023-03-14T09:08:28.168Z"
   },
   {
    "duration": 9,
    "start_time": "2023-03-14T09:08:28.179Z"
   },
   {
    "duration": 18,
    "start_time": "2023-03-14T09:08:28.189Z"
   },
   {
    "duration": 16,
    "start_time": "2023-03-14T09:08:28.208Z"
   },
   {
    "duration": 13,
    "start_time": "2023-03-14T09:08:28.227Z"
   },
   {
    "duration": 11,
    "start_time": "2023-03-14T09:08:28.242Z"
   },
   {
    "duration": 21,
    "start_time": "2023-03-14T09:08:28.265Z"
   },
   {
    "duration": 8,
    "start_time": "2023-03-14T09:08:28.288Z"
   },
   {
    "duration": 7,
    "start_time": "2023-03-14T09:08:28.298Z"
   },
   {
    "duration": 16,
    "start_time": "2023-03-14T09:08:28.308Z"
   },
   {
    "duration": 19,
    "start_time": "2023-03-14T09:08:28.327Z"
   },
   {
    "duration": 353,
    "start_time": "2023-03-14T09:08:28.350Z"
   },
   {
    "duration": 5,
    "start_time": "2023-03-14T09:08:28.705Z"
   },
   {
    "duration": 376,
    "start_time": "2023-03-14T09:08:28.713Z"
   },
   {
    "duration": 14,
    "start_time": "2023-03-14T09:08:29.091Z"
   },
   {
    "duration": 16,
    "start_time": "2023-03-14T09:08:29.107Z"
   },
   {
    "duration": 18,
    "start_time": "2023-03-14T09:08:29.125Z"
   },
   {
    "duration": 230,
    "start_time": "2023-03-14T09:08:29.164Z"
   },
   {
    "duration": 20,
    "start_time": "2023-03-14T09:08:29.396Z"
   },
   {
    "duration": 19,
    "start_time": "2023-03-14T09:08:29.418Z"
   },
   {
    "duration": 28,
    "start_time": "2023-03-14T09:08:29.439Z"
   },
   {
    "duration": 9,
    "start_time": "2023-03-14T09:08:29.469Z"
   },
   {
    "duration": 22,
    "start_time": "2023-03-14T09:08:29.480Z"
   },
   {
    "duration": 355,
    "start_time": "2023-03-14T09:08:29.504Z"
   },
   {
    "duration": 243,
    "start_time": "2023-03-14T09:08:29.861Z"
   },
   {
    "duration": 335,
    "start_time": "2023-03-14T09:08:30.106Z"
   },
   {
    "duration": 273,
    "start_time": "2023-03-14T09:08:30.443Z"
   },
   {
    "duration": 406,
    "start_time": "2023-03-14T09:08:30.718Z"
   },
   {
    "duration": 7,
    "start_time": "2023-03-14T09:08:31.129Z"
   },
   {
    "duration": 58,
    "start_time": "2023-03-14T09:08:31.138Z"
   },
   {
    "duration": 201,
    "start_time": "2023-03-14T09:08:31.200Z"
   },
   {
    "duration": 8,
    "start_time": "2023-03-14T09:08:31.403Z"
   },
   {
    "duration": 260,
    "start_time": "2023-03-14T09:08:31.414Z"
   },
   {
    "duration": 180,
    "start_time": "2023-03-14T09:08:31.676Z"
   },
   {
    "duration": 7,
    "start_time": "2023-03-14T09:08:31.865Z"
   },
   {
    "duration": 77,
    "start_time": "2023-03-14T09:08:31.874Z"
   },
   {
    "duration": 42,
    "start_time": "2023-03-14T09:08:31.953Z"
   },
   {
    "duration": 92,
    "start_time": "2023-03-14T09:08:31.997Z"
   },
   {
    "duration": 25,
    "start_time": "2023-03-14T09:08:32.091Z"
   },
   {
    "duration": 22,
    "start_time": "2023-03-14T09:08:32.118Z"
   },
   {
    "duration": 22,
    "start_time": "2023-03-14T09:08:32.142Z"
   },
   {
    "duration": 27,
    "start_time": "2023-03-14T09:08:32.167Z"
   },
   {
    "duration": 13,
    "start_time": "2023-03-14T09:08:32.196Z"
   },
   {
    "duration": 49,
    "start_time": "2023-03-14T09:08:32.211Z"
   },
   {
    "duration": 18,
    "start_time": "2023-03-14T09:08:32.262Z"
   }
  ],
  "kernelspec": {
   "display_name": "Python 3 (ipykernel)",
   "language": "python",
   "name": "python3"
  },
  "language_info": {
   "codemirror_mode": {
    "name": "ipython",
    "version": 3
   },
   "file_extension": ".py",
   "mimetype": "text/x-python",
   "name": "python",
   "nbconvert_exporter": "python",
   "pygments_lexer": "ipython3",
   "version": "3.9.13"
  },
  "toc": {
   "base_numbering": 1,
   "nav_menu": {},
   "number_sections": true,
   "sideBar": true,
   "skip_h1_title": true,
   "title_cell": "Table of Contents",
   "title_sidebar": "Contents",
   "toc_cell": false,
   "toc_position": {},
   "toc_section_display": true,
   "toc_window_display": false
  }
 },
 "nbformat": 4,
 "nbformat_minor": 5
}
